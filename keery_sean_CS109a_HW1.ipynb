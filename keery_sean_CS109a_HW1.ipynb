{
 "cells": [
  {
   "cell_type": "markdown",
   "metadata": {},
   "source": [
    "# CS 109A/AC 209A/STAT 121A Data Science: Homework 1\n",
    "**Harvard University**<br>\n",
    "**Fall 2016**<br>\n",
    "**Instructors: W. Pan, P. Protopapas, K. Rader**<br>\n",
    "**Due Date: ** Tuesday, September 13th, 2016 at 11:59pm"
   ]
  },
  {
   "cell_type": "markdown",
   "metadata": {},
   "source": [
    "Download the `IPython` notebook as well as the data file from Vocareum and complete locally.\n",
    "\n",
    "To submit your assignment, in Vocareum, upload (using the 'Upload' button on your Jupyter Dashboard) your solution to Vocareum as a single notebook with following file name format:\n",
    "\n",
    "`last_first_CourseNumber_HW1.ipynb`\n",
    "\n",
    "where `CourseNumber` is the course in which you're enrolled (CS 109a, Stats 121a, AC 209a). Submit your assignment in Vocareum using the 'Submit' button.\n",
    "\n",
    "**Avoid running your notebook on Vocareum and avoid changing your file after submitting.**\n",
    "\n",
    "Problems on homework assignments are equally weighted. The Challenge Question is required for AC 209A students and optional for all others. Student who complete the Challenge Problem as optional extra credit will receive +0.5% towards your final grade for each correct solution. "
   ]
  },
  {
   "cell_type": "markdown",
   "metadata": {},
   "source": [
    "Import libraries"
   ]
  },
  {
   "cell_type": "code",
   "execution_count": 2,
   "metadata": {
    "collapsed": false
   },
   "outputs": [],
   "source": [
    "import numpy as np\n",
    "import pandas as pd\n",
    "import matplotlib\n",
    "import matplotlib.pyplot as plt\n",
    "%matplotlib inline"
   ]
  },
  {
   "cell_type": "markdown",
   "metadata": {},
   "source": [
    "---"
   ]
  },
  {
   "cell_type": "markdown",
   "metadata": {},
   "source": [
    "## Problem 0: Basic Information\n",
    "\n",
    "Fill in your basic information. "
   ]
  },
  {
   "cell_type": "markdown",
   "metadata": {},
   "source": [
    "### Part (a): Your name"
   ]
  },
  {
   "cell_type": "markdown",
   "metadata": {},
   "source": [
    "[Keery, Sean]"
   ]
  },
  {
   "cell_type": "markdown",
   "metadata": {},
   "source": [
    "### Part (b): Course Number"
   ]
  },
  {
   "cell_type": "markdown",
   "metadata": {},
   "source": [
    "[CS 109a]"
   ]
  },
  {
   "cell_type": "markdown",
   "metadata": {},
   "source": [
    "---"
   ]
  },
  {
   "cell_type": "markdown",
   "metadata": {
    "collapsed": true
   },
   "source": [
    "## Problem 1: Basic Data Visualization, Manipulation and Analysis\n",
    "\n",
    "In this problem, we will be using some basic tools of data visualization and statistical analysis to help build our intuition for finding, describing and interpreting patterns in data. We will be working with the data contained in the file `dataset_HW1.txt`. The data in `dataset_HW1.txt` contains biometric readings for a number of diabetic patients. In this problem, we will try to detect disease subtypes within this set of patients using their biometric readings."
   ]
  },
  {
   "cell_type": "markdown",
   "metadata": {},
   "source": [
    "### Part (a): Understanding a Pandas Dataframe\n",
    "Load the data from `dataset_HW1.txt` into a pandas dataframe. Get a basic picture of the information contained in the dataframe by printing the head, the size of the dataframe, the range of values in numeric-valued columns. Store the max, min and range information as a pandas dataframe."
   ]
  },
  {
   "cell_type": "markdown",
   "metadata": {},
   "source": [
    "<b>Solution:</b>"
   ]
  },
  {
   "cell_type": "code",
   "execution_count": 3,
   "metadata": {
    "collapsed": false
   },
   "outputs": [
    {
     "data": {
      "text/html": [
       "<div>\n",
       "<table border=\"1\" class=\"dataframe\">\n",
       "  <thead>\n",
       "    <tr style=\"text-align: right;\">\n",
       "      <th></th>\n",
       "      <th>patient_id</th>\n",
       "      <th>marker_1</th>\n",
       "      <th>marker_2</th>\n",
       "      <th>subtype</th>\n",
       "      <th>patient_age</th>\n",
       "      <th>patient_gender</th>\n",
       "    </tr>\n",
       "  </thead>\n",
       "  <tbody>\n",
       "    <tr>\n",
       "      <th>0</th>\n",
       "      <td>619681</td>\n",
       "      <td>21.640523</td>\n",
       "      <td>144.001572</td>\n",
       "      <td>0.0</td>\n",
       "      <td>3</td>\n",
       "      <td>female</td>\n",
       "    </tr>\n",
       "    <tr>\n",
       "      <th>1</th>\n",
       "      <td>619711</td>\n",
       "      <td>13.787380</td>\n",
       "      <td>162.408932</td>\n",
       "      <td>0.0</td>\n",
       "      <td>15</td>\n",
       "      <td>female</td>\n",
       "    </tr>\n",
       "    <tr>\n",
       "      <th>2</th>\n",
       "      <td>619595</td>\n",
       "      <td>22.675580</td>\n",
       "      <td>130.227221</td>\n",
       "      <td>0.0</td>\n",
       "      <td>6</td>\n",
       "      <td>female</td>\n",
       "    </tr>\n",
       "    <tr>\n",
       "      <th>3</th>\n",
       "      <td>619990</td>\n",
       "      <td>13.500884</td>\n",
       "      <td>138.486428</td>\n",
       "      <td>0.0</td>\n",
       "      <td>17</td>\n",
       "      <td>male</td>\n",
       "    </tr>\n",
       "    <tr>\n",
       "      <th>4</th>\n",
       "      <td>619157</td>\n",
       "      <td>2.967811</td>\n",
       "      <td>144.105985</td>\n",
       "      <td>0.0</td>\n",
       "      <td>6</td>\n",
       "      <td>female</td>\n",
       "    </tr>\n",
       "  </tbody>\n",
       "</table>\n",
       "</div>"
      ],
      "text/plain": [
       "   patient_id   marker_1    marker_2  subtype  patient_age patient_gender\n",
       "0      619681  21.640523  144.001572      0.0            3         female\n",
       "1      619711  13.787380  162.408932      0.0           15         female\n",
       "2      619595  22.675580  130.227221      0.0            6         female\n",
       "3      619990  13.500884  138.486428      0.0           17           male\n",
       "4      619157   2.967811  144.105985      0.0            6         female"
      ]
     },
     "execution_count": 3,
     "metadata": {},
     "output_type": "execute_result"
    }
   ],
   "source": [
    "df= pd.read_csv(\"dataset_HW1.txt\")\n",
    "#top 5 rows\n",
    "df.head()"
   ]
  },
  {
   "cell_type": "code",
   "execution_count": 4,
   "metadata": {
    "collapsed": false
   },
   "outputs": [
    {
     "data": {
      "text/plain": [
       "array(['patient_id', 'marker_1', 'marker_2', 'subtype', 'patient_age',\n",
       "       'patient_gender'], dtype=object)"
      ]
     },
     "execution_count": 4,
     "metadata": {},
     "output_type": "execute_result"
    }
   ],
   "source": [
    "#column names\n",
    "df.columns.values"
   ]
  },
  {
   "cell_type": "code",
   "execution_count": 5,
   "metadata": {
    "collapsed": false
   },
   "outputs": [
    {
     "name": "stdout",
     "output_type": "stream",
     "text": [
      "The number of patients is 2300\n"
     ]
    }
   ],
   "source": [
    "print \"The number of patients is\", df.shape[0]"
   ]
  },
  {
   "cell_type": "code",
   "execution_count": 6,
   "metadata": {
    "collapsed": false
   },
   "outputs": [
    {
     "data": {
      "text/html": [
       "<div>\n",
       "<table border=\"1\" class=\"dataframe\">\n",
       "  <thead>\n",
       "    <tr style=\"text-align: right;\">\n",
       "      <th></th>\n",
       "      <th>patient_id</th>\n",
       "      <th>marker_1</th>\n",
       "      <th>marker_2</th>\n",
       "      <th>subtype</th>\n",
       "      <th>patient_age</th>\n",
       "    </tr>\n",
       "  </thead>\n",
       "  <tbody>\n",
       "    <tr>\n",
       "      <th>count</th>\n",
       "      <td>2300.000000</td>\n",
       "      <td>2300.000000</td>\n",
       "      <td>2300.000000</td>\n",
       "      <td>2300.000000</td>\n",
       "      <td>2300.000000</td>\n",
       "    </tr>\n",
       "    <tr>\n",
       "      <th>mean</th>\n",
       "      <td>621149.808261</td>\n",
       "      <td>31.970053</td>\n",
       "      <td>105.974247</td>\n",
       "      <td>1.086957</td>\n",
       "      <td>38.868261</td>\n",
       "    </tr>\n",
       "    <tr>\n",
       "      <th>std</th>\n",
       "      <td>1306.440559</td>\n",
       "      <td>18.096490</td>\n",
       "      <td>52.306201</td>\n",
       "      <td>0.928643</td>\n",
       "      <td>27.211950</td>\n",
       "    </tr>\n",
       "    <tr>\n",
       "      <th>min</th>\n",
       "      <td>619000.000000</td>\n",
       "      <td>-22.591722</td>\n",
       "      <td>-56.388949</td>\n",
       "      <td>0.000000</td>\n",
       "      <td>3.000000</td>\n",
       "    </tr>\n",
       "    <tr>\n",
       "      <th>25%</th>\n",
       "      <td>619715.500000</td>\n",
       "      <td>20.495720</td>\n",
       "      <td>78.517068</td>\n",
       "      <td>0.000000</td>\n",
       "      <td>13.000000</td>\n",
       "    </tr>\n",
       "    <tr>\n",
       "      <th>50%</th>\n",
       "      <td>621491.500000</td>\n",
       "      <td>33.743705</td>\n",
       "      <td>105.179291</td>\n",
       "      <td>1.000000</td>\n",
       "      <td>35.000000</td>\n",
       "    </tr>\n",
       "    <tr>\n",
       "      <th>75%</th>\n",
       "      <td>622282.250000</td>\n",
       "      <td>45.752852</td>\n",
       "      <td>141.571884</td>\n",
       "      <td>2.000000</td>\n",
       "      <td>62.000000</td>\n",
       "    </tr>\n",
       "    <tr>\n",
       "      <th>max</th>\n",
       "      <td>622999.000000</td>\n",
       "      <td>80.209748</td>\n",
       "      <td>364.221777</td>\n",
       "      <td>3.000000</td>\n",
       "      <td>90.000000</td>\n",
       "    </tr>\n",
       "  </tbody>\n",
       "</table>\n",
       "</div>"
      ],
      "text/plain": [
       "          patient_id     marker_1     marker_2      subtype  patient_age\n",
       "count    2300.000000  2300.000000  2300.000000  2300.000000  2300.000000\n",
       "mean   621149.808261    31.970053   105.974247     1.086957    38.868261\n",
       "std      1306.440559    18.096490    52.306201     0.928643    27.211950\n",
       "min    619000.000000   -22.591722   -56.388949     0.000000     3.000000\n",
       "25%    619715.500000    20.495720    78.517068     0.000000    13.000000\n",
       "50%    621491.500000    33.743705   105.179291     1.000000    35.000000\n",
       "75%    622282.250000    45.752852   141.571884     2.000000    62.000000\n",
       "max    622999.000000    80.209748   364.221777     3.000000    90.000000"
      ]
     },
     "execution_count": 6,
     "metadata": {},
     "output_type": "execute_result"
    }
   ],
   "source": [
    "#dataframe statistics\n",
    "df.describe()"
   ]
  },
  {
   "cell_type": "code",
   "execution_count": 7,
   "metadata": {
    "collapsed": false
   },
   "outputs": [
    {
     "data": {
      "text/html": [
       "<div>\n",
       "<table border=\"1\" class=\"dataframe\">\n",
       "  <thead>\n",
       "    <tr style=\"text-align: right;\">\n",
       "      <th></th>\n",
       "      <th>marker_1</th>\n",
       "      <th>marker_2</th>\n",
       "      <th>subtype</th>\n",
       "      <th>patient_age</th>\n",
       "    </tr>\n",
       "  </thead>\n",
       "  <tbody>\n",
       "    <tr>\n",
       "      <th>max</th>\n",
       "      <td>80.209748</td>\n",
       "      <td>364.221777</td>\n",
       "      <td>3.0</td>\n",
       "      <td>90.0</td>\n",
       "    </tr>\n",
       "    <tr>\n",
       "      <th>min</th>\n",
       "      <td>-22.591722</td>\n",
       "      <td>-56.388949</td>\n",
       "      <td>0.0</td>\n",
       "      <td>3.0</td>\n",
       "    </tr>\n",
       "    <tr>\n",
       "      <th>range</th>\n",
       "      <td>102.801470</td>\n",
       "      <td>420.610725</td>\n",
       "      <td>3.0</td>\n",
       "      <td>87.0</td>\n",
       "    </tr>\n",
       "  </tbody>\n",
       "</table>\n",
       "</div>"
      ],
      "text/plain": [
       "         marker_1    marker_2  subtype  patient_age\n",
       "max     80.209748  364.221777      3.0         90.0\n",
       "min    -22.591722  -56.388949      0.0          3.0\n",
       "range  102.801470  420.610725      3.0         87.0"
      ]
     },
     "execution_count": 7,
     "metadata": {},
     "output_type": "execute_result"
    }
   ],
   "source": [
    "#now I'm going to select the numeric columns so I can put them in their own dataframe\n",
    "df_cols_1_to_4=df[range(1,5)]\n",
    "\n",
    "#get the column names to reuse in the new DF\n",
    "column_names=df_cols_1_to_4.columns.values\n",
    "\n",
    "#create new df using the new column names\n",
    "stats=pd.DataFrame(columns=column_names)\n",
    "\n",
    "#create max row\n",
    "stats.loc['max']= df_cols_1_to_4.max()\n",
    "\n",
    "#create min row\n",
    "stats.loc['min']= df_cols_1_to_4.min()\n",
    "\n",
    "#create range row\n",
    "stats.loc['range']= df_cols_1_to_4.max()-df_cols_1_to_4.min()\n",
    "\n",
    "#make sure everything worked\n",
    "stats.head()"
   ]
  },
  {
   "cell_type": "markdown",
   "metadata": {},
   "source": [
    "### Part (b): Descriptive Statistics\n",
    "Find the mean, median and standard deviation of the real-valued columns in the entire dataset. Now find the same set of descriptive statistics for each of the following subset of data:\n",
    "\n",
    "1. children (ages 3 - 17)\n",
    "2. adult males (ages 18 - 90)\n",
    "3. adult females (ages 18 - 90)\n",
    "\n",
    "Append these stats to the dataframe from part (a), containing the max, min and range. Explain what these stats say about the entire dataset as well as each of the above subsets.\n",
    "\n",
    "Give a summary of the demographics of the patients contained in the dataset, i.e. how many children, how many adults, how many adult females and how many adult males. Display these results as pie charts."
   ]
  },
  {
   "cell_type": "markdown",
   "metadata": {},
   "source": [
    "**Solution:**"
   ]
  },
  {
   "cell_type": "code",
   "execution_count": 8,
   "metadata": {
    "collapsed": false
   },
   "outputs": [
    {
     "data": {
      "text/html": [
       "<div>\n",
       "<table border=\"1\" class=\"dataframe\">\n",
       "  <thead>\n",
       "    <tr style=\"text-align: right;\">\n",
       "      <th></th>\n",
       "      <th>marker_1</th>\n",
       "      <th>marker_2</th>\n",
       "      <th>subtype</th>\n",
       "      <th>patient_age</th>\n",
       "    </tr>\n",
       "  </thead>\n",
       "  <tbody>\n",
       "    <tr>\n",
       "      <th>max</th>\n",
       "      <td>80.209748</td>\n",
       "      <td>364.221777</td>\n",
       "      <td>3.0</td>\n",
       "      <td>90.000000</td>\n",
       "    </tr>\n",
       "    <tr>\n",
       "      <th>min</th>\n",
       "      <td>-22.591722</td>\n",
       "      <td>-56.388949</td>\n",
       "      <td>0.0</td>\n",
       "      <td>3.000000</td>\n",
       "    </tr>\n",
       "    <tr>\n",
       "      <th>range</th>\n",
       "      <td>102.801470</td>\n",
       "      <td>420.610725</td>\n",
       "      <td>3.0</td>\n",
       "      <td>87.000000</td>\n",
       "    </tr>\n",
       "    <tr>\n",
       "      <th>mean</th>\n",
       "      <td>31.970053</td>\n",
       "      <td>105.974247</td>\n",
       "      <td>NaN</td>\n",
       "      <td>38.868261</td>\n",
       "    </tr>\n",
       "    <tr>\n",
       "      <th>median</th>\n",
       "      <td>33.743705</td>\n",
       "      <td>105.179291</td>\n",
       "      <td>NaN</td>\n",
       "      <td>35.000000</td>\n",
       "    </tr>\n",
       "    <tr>\n",
       "      <th>std</th>\n",
       "      <td>18.096490</td>\n",
       "      <td>52.306201</td>\n",
       "      <td>NaN</td>\n",
       "      <td>27.211950</td>\n",
       "    </tr>\n",
       "  </tbody>\n",
       "</table>\n",
       "</div>"
      ],
      "text/plain": [
       "          marker_1    marker_2  subtype  patient_age\n",
       "max      80.209748  364.221777      3.0    90.000000\n",
       "min     -22.591722  -56.388949      0.0     3.000000\n",
       "range   102.801470  420.610725      3.0    87.000000\n",
       "mean     31.970053  105.974247      NaN    38.868261\n",
       "median   33.743705  105.179291      NaN    35.000000\n",
       "std      18.096490   52.306201      NaN    27.211950"
      ]
     },
     "execution_count": 8,
     "metadata": {},
     "output_type": "execute_result"
    }
   ],
   "source": [
    "#just get meaninful columns\n",
    "df_cols_1_2_4=df[[1,2,4]]\n",
    "\n",
    "#create mean row\n",
    "stats.loc['mean']= df_cols_1_2_4.mean()\n",
    "\n",
    "#create median row\n",
    "stats.loc['median']= df_cols_1_2_4.median()\n",
    "\n",
    "#create standard deviaton row\n",
    "stats.loc['std']= df_cols_1_2_4.std()\n",
    "\n",
    "stats"
   ]
  },
  {
   "cell_type": "code",
   "execution_count": 18,
   "metadata": {
    "collapsed": false
   },
   "outputs": [
    {
     "data": {
      "text/html": [
       "<div>\n",
       "<table border=\"1\" class=\"dataframe\">\n",
       "  <thead>\n",
       "    <tr style=\"text-align: right;\">\n",
       "      <th></th>\n",
       "      <th>marker_1</th>\n",
       "      <th>marker_2</th>\n",
       "      <th>subtype</th>\n",
       "      <th>patient_age</th>\n",
       "    </tr>\n",
       "  </thead>\n",
       "  <tbody>\n",
       "    <tr>\n",
       "      <th>child_max</th>\n",
       "      <td>80.209748</td>\n",
       "      <td>171.429357</td>\n",
       "      <td>3.000000</td>\n",
       "      <td>17.000000</td>\n",
       "    </tr>\n",
       "    <tr>\n",
       "      <th>child_min</th>\n",
       "      <td>-22.591722</td>\n",
       "      <td>70.538569</td>\n",
       "      <td>0.000000</td>\n",
       "      <td>3.000000</td>\n",
       "    </tr>\n",
       "    <tr>\n",
       "      <th>child_range</th>\n",
       "      <td>102.801470</td>\n",
       "      <td>100.890788</td>\n",
       "      <td>3.000000</td>\n",
       "      <td>14.000000</td>\n",
       "    </tr>\n",
       "    <tr>\n",
       "      <th>child_median</th>\n",
       "      <td>26.868357</td>\n",
       "      <td>121.799063</td>\n",
       "      <td>1.500000</td>\n",
       "      <td>10.000000</td>\n",
       "    </tr>\n",
       "    <tr>\n",
       "      <th>child_mean</th>\n",
       "      <td>26.267379</td>\n",
       "      <td>121.396907</td>\n",
       "      <td>1.500000</td>\n",
       "      <td>10.106250</td>\n",
       "    </tr>\n",
       "    <tr>\n",
       "      <th>child_std</th>\n",
       "      <td>24.972128</td>\n",
       "      <td>23.658433</td>\n",
       "      <td>1.118733</td>\n",
       "      <td>4.307337</td>\n",
       "    </tr>\n",
       "  </tbody>\n",
       "</table>\n",
       "</div>"
      ],
      "text/plain": [
       "                marker_1    marker_2   subtype  patient_age\n",
       "child_max      80.209748  171.429357  3.000000    17.000000\n",
       "child_min     -22.591722   70.538569  0.000000     3.000000\n",
       "child_range   102.801470  100.890788  3.000000    14.000000\n",
       "child_median   26.868357  121.799063  1.500000    10.000000\n",
       "child_mean     26.267379  121.396907  1.500000    10.106250\n",
       "child_std      24.972128   23.658433  1.118733     4.307337"
      ]
     },
     "execution_count": 18,
     "metadata": {},
     "output_type": "execute_result"
    }
   ],
   "source": [
    "# break out data by age & adult gender\n",
    "child_data=df[df['patient_age']<18]\n",
    "female_data=df[(df['patient_age']>17) & (df['patient_gender']=='female')]\n",
    "male_data=df[(df['patient_age']>17) & (df['patient_gender']=='male')]\n",
    "\n",
    "# get the column names to reuse in the new child DF\n",
    "column_names=child_data[range(1,5)].columns.values\n",
    "\n",
    "# reuse above code simplify selection by using dataframe directly instead of using intermediate values                       \n",
    "child_stats = pd.DataFrame(columns=column_names)\n",
    "child_stats.loc['child_max']= child_data[range(1,5)].max()\n",
    "child_stats.loc['child_min']= child_data[range(1,5)].min()\n",
    "child_stats.loc['child_range']= child_data[range(1,5)].max()-child_data[range(1,5)].min()\n",
    "\n",
    "# reuse above code simplify selection by using dataframe directly instead of using intermediate values                       \n",
    "child_stats.loc['child_median']= child_data[range(1,5)].median()\n",
    "child_stats.loc['child_mean']= child_data[range(1,5)].mean()\n",
    "child_stats.loc['child_std']= child_data[range(1,5)].std()\n",
    "\n",
    "# make sure everything worked\n",
    "child_stats"
   ]
  },
  {
   "cell_type": "code",
   "execution_count": 20,
   "metadata": {
    "collapsed": false
   },
   "outputs": [
    {
     "data": {
      "text/html": [
       "<div>\n",
       "<table border=\"1\" class=\"dataframe\">\n",
       "  <thead>\n",
       "    <tr style=\"text-align: right;\">\n",
       "      <th></th>\n",
       "      <th>marker_1</th>\n",
       "      <th>marker_2</th>\n",
       "      <th>subtype</th>\n",
       "      <th>patient_age</th>\n",
       "    </tr>\n",
       "  </thead>\n",
       "  <tbody>\n",
       "    <tr>\n",
       "      <th>male_max</th>\n",
       "      <td>40.458624</td>\n",
       "      <td>364.221777</td>\n",
       "      <td>2.000000</td>\n",
       "      <td>90.000000</td>\n",
       "    </tr>\n",
       "    <tr>\n",
       "      <th>male_min</th>\n",
       "      <td>1.860516</td>\n",
       "      <td>-56.388949</td>\n",
       "      <td>0.000000</td>\n",
       "      <td>18.000000</td>\n",
       "    </tr>\n",
       "    <tr>\n",
       "      <th>male_range</th>\n",
       "      <td>38.598108</td>\n",
       "      <td>420.610725</td>\n",
       "      <td>2.000000</td>\n",
       "      <td>72.000000</td>\n",
       "    </tr>\n",
       "    <tr>\n",
       "      <th>male_median</th>\n",
       "      <td>26.168875</td>\n",
       "      <td>110.893774</td>\n",
       "      <td>1.000000</td>\n",
       "      <td>54.000000</td>\n",
       "    </tr>\n",
       "    <tr>\n",
       "      <th>male_mean</th>\n",
       "      <td>24.678005</td>\n",
       "      <td>124.883059</td>\n",
       "      <td>1.285714</td>\n",
       "      <td>53.744286</td>\n",
       "    </tr>\n",
       "    <tr>\n",
       "      <th>male_std</th>\n",
       "      <td>6.956745</td>\n",
       "      <td>57.523807</td>\n",
       "      <td>0.700355</td>\n",
       "      <td>21.295497</td>\n",
       "    </tr>\n",
       "  </tbody>\n",
       "</table>\n",
       "</div>"
      ],
      "text/plain": [
       "              marker_1    marker_2   subtype  patient_age\n",
       "male_max     40.458624  364.221777  2.000000    90.000000\n",
       "male_min      1.860516  -56.388949  0.000000    18.000000\n",
       "male_range   38.598108  420.610725  2.000000    72.000000\n",
       "male_median  26.168875  110.893774  1.000000    54.000000\n",
       "male_mean    24.678005  124.883059  1.285714    53.744286\n",
       "male_std      6.956745   57.523807  0.700355    21.295497"
      ]
     },
     "execution_count": 20,
     "metadata": {},
     "output_type": "execute_result"
    }
   ],
   "source": [
    "# get the column names to reuse in the new male DF\n",
    "column_names=male_data[range(1,5)].columns.values\n",
    "\n",
    "# reuse above code simplify selection by using dataframe directly instead of using intermediate values                       \n",
    "male_stats = pd.DataFrame(columns=column_names)\n",
    "male_stats.loc['male_max']= male_data[range(1,5)].max()\n",
    "male_stats.loc['male_min']= male_data[range(1,5)].min()\n",
    "male_stats.loc['male_range']= male_data[range(1,5)].max()-male_data[range(1,5)].min()\n",
    "\n",
    "# reuse above code simplify selection by using dataframe directly instead of using intermediate values                       \n",
    "male_stats.loc['male_median']= male_data[range(1,5)].median()\n",
    "male_stats.loc['male_mean']= male_data[range(1,5)].mean()\n",
    "male_stats.loc['male_std']= male_data[range(1,5)].std()\n",
    "\n",
    "# make sure everything worked\n",
    "male_stats"
   ]
  },
  {
   "cell_type": "code",
   "execution_count": 22,
   "metadata": {
    "collapsed": false
   },
   "outputs": [
    {
     "data": {
      "text/html": [
       "<div>\n",
       "<table border=\"1\" class=\"dataframe\">\n",
       "  <thead>\n",
       "    <tr style=\"text-align: right;\">\n",
       "      <th></th>\n",
       "      <th>marker_1</th>\n",
       "      <th>marker_2</th>\n",
       "      <th>subtype</th>\n",
       "      <th>patient_age</th>\n",
       "    </tr>\n",
       "  </thead>\n",
       "  <tbody>\n",
       "    <tr>\n",
       "      <th>female_max</th>\n",
       "      <td>59.702106</td>\n",
       "      <td>190.047718</td>\n",
       "      <td>1.000000</td>\n",
       "      <td>90.000000</td>\n",
       "    </tr>\n",
       "    <tr>\n",
       "      <th>female_min</th>\n",
       "      <td>28.364561</td>\n",
       "      <td>-43.386768</td>\n",
       "      <td>0.000000</td>\n",
       "      <td>18.000000</td>\n",
       "    </tr>\n",
       "    <tr>\n",
       "      <th>female_range</th>\n",
       "      <td>31.337545</td>\n",
       "      <td>233.434486</td>\n",
       "      <td>1.000000</td>\n",
       "      <td>72.000000</td>\n",
       "    </tr>\n",
       "    <tr>\n",
       "      <th>female_median</th>\n",
       "      <td>43.911490</td>\n",
       "      <td>73.086403</td>\n",
       "      <td>0.500000</td>\n",
       "      <td>56.000000</td>\n",
       "    </tr>\n",
       "    <tr>\n",
       "      <th>female_mean</th>\n",
       "      <td>44.053269</td>\n",
       "      <td>74.006378</td>\n",
       "      <td>0.500000</td>\n",
       "      <td>54.613750</td>\n",
       "    </tr>\n",
       "    <tr>\n",
       "      <th>female_std</th>\n",
       "      <td>7.141580</td>\n",
       "      <td>53.320292</td>\n",
       "      <td>0.500313</td>\n",
       "      <td>21.094034</td>\n",
       "    </tr>\n",
       "  </tbody>\n",
       "</table>\n",
       "</div>"
      ],
      "text/plain": [
       "                marker_1    marker_2   subtype  patient_age\n",
       "female_max     59.702106  190.047718  1.000000    90.000000\n",
       "female_min     28.364561  -43.386768  0.000000    18.000000\n",
       "female_range   31.337545  233.434486  1.000000    72.000000\n",
       "female_median  43.911490   73.086403  0.500000    56.000000\n",
       "female_mean    44.053269   74.006378  0.500000    54.613750\n",
       "female_std      7.141580   53.320292  0.500313    21.094034"
      ]
     },
     "execution_count": 22,
     "metadata": {},
     "output_type": "execute_result"
    }
   ],
   "source": [
    "# get the column names to reuse in the new femal DF\n",
    "column_names=female_data[range(1,5)].columns.values\n",
    "\n",
    "# reuse above code simplify selection by using dataframe directly instead of using intermediate values                       \n",
    "female_stats = pd.DataFrame(columns=column_names)\n",
    "female_stats.loc['female_max']= female_data[range(1,5)].max()\n",
    "female_stats.loc['female_min']= female_data[range(1,5)].min()\n",
    "female_stats.loc['female_range']= female_data[range(1,5)].max()-female_data[range(1,5)].min()\n",
    "\n",
    "# reuse above code simplify selection by using dataframe directly instead of using intermediate values                       \n",
    "female_stats.loc['female_median']= female_data[range(1,5)].median()\n",
    "female_stats.loc['female_mean']= female_data[range(1,5)].mean()\n",
    "female_stats.loc['female_std']= female_data[range(1,5)].std()\n",
    "\n",
    "# make sure everything worked\n",
    "female_stats"
   ]
  },
  {
   "cell_type": "code",
   "execution_count": 26,
   "metadata": {
    "collapsed": false
   },
   "outputs": [
    {
     "data": {
      "text/plain": [
       "([<matplotlib.patches.Wedge at 0x11745bd50>,\n",
       "  <matplotlib.patches.Wedge at 0x117478110>],\n",
       " [<matplotlib.text.Text at 0x11746a810>,\n",
       "  <matplotlib.text.Text at 0x117478b50>],\n",
       " [<matplotlib.text.Text at 0x11746ac90>,\n",
       "  <matplotlib.text.Text at 0x117478f90>])"
      ]
     },
     "execution_count": 26,
     "metadata": {},
     "output_type": "execute_result"
    },
    {
     "data": {
      "image/png": "[encoded data removed]",
      "text/plain": [
       "<matplotlib.figure.Figure at 0x1143bd2d0>"
      ]
     },
     "metadata": {},
     "output_type": "display_data"
    }
   ],
   "source": [
    "# I haven't appended the data to the original stats DF yet\n",
    "\n",
    "# Explain what these stats say about the entire dataset as well as each of the above subsets.\n",
    "\n",
    "# Demographics - adults vs children\n",
    "children=child_data.shape[0]\n",
    "adults=df.shape[0]-children\n",
    "fig=plt.figure(figsize=(10,10))\n",
    "ax1=fig.add_subplot(221)\n",
    "ax1.pie([children,adults],\n",
    "       labels=['children '+ str(children),'adults '+str(adults)],\n",
    "       colors=['blue','gold'],\n",
    "       autopct='%1.1f%%',shadow=True,startangle=90)"
   ]
  },
  {
   "cell_type": "markdown",
   "metadata": {},
   "source": [
    "### Part (c): Data Visualization\n",
    "To understand how the biometric reading might help us determine diabetic subtypes, we begin with some visual analysis of the biometric data:\n",
    "\n",
    "1. plot histograms of marker 1 and marker 2 (play with different values for the bin number to find the most usefule visualization)\n",
    "2. plot both markers in a scatter plot, color each point according to disease subtype\n",
    "\n",
    "Do the above for each demographics within the data: children, adult men and adult women."
   ]
  },
  {
   "cell_type": "markdown",
   "metadata": {},
   "source": [
    "**Solution:**"
   ]
  },
  {
   "cell_type": "markdown",
   "metadata": {},
   "source": [
    "### Part (d): Putting it All Together\n",
    "\n",
    "Summarize and interpret the patterns in the **histograms** from Part (c), compare these patterns to each other. In particular, explain what these patterns indicate about the relationship between the biometric data (marker 1 and marker 2) and subtypes of diabetes amongst the patients.\n",
    "\n",
    "Summarize and interpret the patterns in the **scatter plots** from Part (c), compare these patterns to each other. In particular, explain what these patterns indicate about the relationship between the biometric readings (marker 1 and marker 2) and subtypes of diabetes amongst the patients.\n",
    "\n",
    "Do your analyses of the patterns in histograms and the scatter plots support or contradict each other? Is one of the two visualizations more useful than the other for anlyzing the relationship between biometric data and disease subtypes? If so which, and why?\n",
    "\n",
    "Compare the descriptive stats you computed in part (b) with the visualizations. Which aspects of the visualizations (histogram and scatter plots) does each statistic measure? \n",
    "\n",
    "Do the stats support, contradict or enhance your visual analysis of the biometric data? \n",
    "\n",
    "Finally, what can you conclude, based on your visual analysis and stats, about the relationship between biometric data and diabetic subtypes in this pool of patients?"
   ]
  },
  {
   "cell_type": "markdown",
   "metadata": {},
   "source": [
    "**Solution:**"
   ]
  },
  {
   "cell_type": "markdown",
   "metadata": {},
   "source": [
    "---"
   ]
  },
  {
   "cell_type": "markdown",
   "metadata": {},
   "source": [
    "## Problem 2: Introduction to Classification\n",
    "\n",
    "In this problem, we will use your analysis of the relationship between biometric data and diabetic subtypes from Problem 1 to **classify** the disease subtype of new patients."
   ]
  },
  {
   "cell_type": "markdown",
   "metadata": {},
   "source": [
    "### Part (a): A Disease Subtype Classifier for Children\n",
    "\n",
    "In the pool of child patients, compute the mean biometric data (marker 1 and marker 2) for each diabetic subtype. For a new patient between the ages of 3 and 18, we will classify the patient as the subtype whose biometric mean is most ``similar\" to the patient's biometric data.\n",
    "\n",
    "- Explain why this way of classifying disease subtypes of new patients is reasonable. Support your explanation with your analysis from Problem 1.\n",
    "\n",
    "To evaluate our classifier, we can use it to classify a set of new patients whose disease subtype we already know. We measure the quality of our classifier by compute the percentage of new patients whose disease subtype we correctly classify. \n",
    "\n",
    "- Explain why the percentage of correct classification is a reasonable way to evaluate our classifier. What might be some shortcomings or ambiguities of this method of evaluation (**Hint:** think about the effect of the number of patients in each disease subtype, confidence level etc)."
   ]
  },
  {
   "cell_type": "markdown",
   "metadata": {},
   "source": [
    "**Solution:**"
   ]
  },
  {
   "cell_type": "markdown",
   "metadata": {},
   "source": [
    "### Part (b): Implementation\n",
    "\n",
    "- __Randomly__ split the child patient data into two sets: training (70%) and testing (30%). \n",
    "\n",
    "- Implement the scheme for classifying disease subtypes described in Part (a). That is, write a function, `classify`, that takes as input the training data and testing data (representing new patients), which then:\n",
    "\n",
    "    1. computes the biometric means for subtypes using the training data \n",
    "    2. classifies the disease subtype of each new patient by comparing their biometric data to the means you've computed (i.e. compute the Euclidean distance between a new patient's biometric data and the biometric means of each disease subtype, classify the new patient as the subtype whose means is most similar in term of the Euclidean distance)\n",
    "\n",
    "\n",
    "- Write a function, `evaluate`, that takes as input the actual disease subtypes for a set of patients as well as the predicted disease subtypes and computes the percentage of new patients who are correctly classified.\n",
    "\n",
    "- Use the `classify` function to classify the disease subtypes of your testing data. Then use the `evaluate` function to evaluate your classification."
   ]
  },
  {
   "cell_type": "markdown",
   "metadata": {},
   "source": [
    "**Solution:**"
   ]
  },
  {
   "cell_type": "markdown",
   "metadata": {},
   "source": [
    "### Part (c): Further Evaluation of Our Classifier\n",
    "\n",
    "- Create training and testing sets from the adult female patients. Use the `classify` function from Part (b) to classify the disease subtypes of your testing data. Then use the `evaluate` function to evaluate your classification.\n",
    "\n",
    "- Do the same for adult male patients.\n",
    "\n",
    "- Is our method of classifying disease subtypes valid for adult male and adult female patients (use the returned values of the `evaluate` function to support your explanation)? \n",
    "\n",
    "- Explain why our method of classifying disease subtypes is or is not valid for adult data. "
   ]
  },
  {
   "cell_type": "markdown",
   "metadata": {},
   "source": [
    "**Solution:**"
   ]
  },
  {
   "cell_type": "markdown",
   "metadata": {},
   "source": [
    "## Problem 3: More Classification\n",
    "\n",
    "In this problem, we will explore a different way to classify the disease subtype of new patients."
   ]
  },
  {
   "cell_type": "markdown",
   "metadata": {},
   "source": [
    "### Part (a): Another Classifier\n",
    "\n",
    "In Problem 2, we classified the disease subtype of a new patient by comparing their biometric data with the biometric means of the subtypes we compute from the training data. This time, we compare the biometric data of the new patient with the data of all the patients in the training data. We identify the patient in the training data whose biometric data is most similar (in terms of Euclidean distance) to that of the new patient. Finally, we classify the disease subtype of the new patient as that of the patient most similar to them.\n",
    "\n",
    "Explain why this way of classifying disease subtypes of new patients is reasonable. Support your explanation with your analysis from Problem 1."
   ]
  },
  {
   "cell_type": "markdown",
   "metadata": {},
   "source": [
    "**Solution:**"
   ]
  },
  {
   "cell_type": "markdown",
   "metadata": {},
   "source": [
    "### Part (b): Implementation\n",
    "\n",
    "- __Randomly__ split the child patient data into two sets: training (70%) and testing (30%).  \n",
    "\n",
    "- Implement the scheme for classifying disease subtypes described in Part (a). That is, write a function, `classify`, that takes as input the training data and data for new patients, which then:\n",
    "\n",
    "    1. for each new patient, identify the patient in the training set whose biometric data is the most similar to this patient \n",
    "    2. classifies the disease subtype of each new patient as the subtype of the patient most similar to them\n",
    "    \n",
    "\n",
    "- Use the `classify` function to classify the disease subtypes of your testing data. Then use the `evaluate` function, from Problem 2, to evaluate your classification.\n",
    "\n",
    "- Do the same for adult male and adult female data."
   ]
  },
  {
   "cell_type": "markdown",
   "metadata": {},
   "source": [
    "**Solution:**"
   ]
  },
  {
   "cell_type": "markdown",
   "metadata": {},
   "source": [
    "### Part (c): Comparison of Classifiers\n",
    "\n",
    "Compare the performance of the classifier you implemented in Part (b) with the one from Problem 2.\n",
    "\n",
    "Which classifier does a better job on the child patient data? Explain why, using your analysis of the dataset from Problem 1. \n",
    "\n",
    "Answer the above question for the adult male and adult female data."
   ]
  },
  {
   "cell_type": "markdown",
   "metadata": {},
   "source": [
    "**Solution:**"
   ]
  },
  {
   "cell_type": "markdown",
   "metadata": {},
   "source": [
    "---"
   ]
  },
  {
   "cell_type": "markdown",
   "metadata": {},
   "source": [
    "## Challenge Problem: US Voting Data (by Age and Sex)\n",
    "**(Required for AC 209A Students)**\n",
    "\n",
    "In this problem, you will perform preliminary data exploration and visualization of some real voting data. \n",
    "\n",
    "**Note:** You are now working with real-life data, so be cautious regarding data type, data format and data quality."
   ]
  },
  {
   "cell_type": "markdown",
   "metadata": {},
   "source": [
    "### Part (a): Downloading and Understanding the Data\n",
    "\n",
    "Download Table 1 from the [US Census Bereau](http://www.census.gov/data/tables/time-series/demo/voting-and-registration/p20-577.html). This is an excel file (do not perform any analysis using Microsoft Excel). \n",
    "\n",
    "Load the data into a Python data structure.\n",
    "\n",
    "Write a brief summary describing what information is included in this dataset (provide evidence to support your summary)."
   ]
  },
  {
   "cell_type": "markdown",
   "metadata": {},
   "source": [
    "**Solution:**"
   ]
  },
  {
   "cell_type": "markdown",
   "metadata": {},
   "source": [
    "### Part (b): What's the Story?\n",
    "\n",
    "Perform data exploration and identify as well as describe the major trends in this data set. Use your computations and visualizations effecitively and specifically to support your analysis, hypothesis and conclusions. Your analysis must include relationships between age, sex and reported percentage of voter registration, reported voting."
   ]
  },
  {
   "cell_type": "markdown",
   "metadata": {},
   "source": [
    "**Solution:**"
   ]
  },
  {
   "cell_type": "markdown",
   "metadata": {},
   "source": [
    "### Part (c): What's Next?\n",
    "\n",
    "Based on your analysis in part (c), what types of interesting questions or tasks could you ask of or perform with this data (explain your answer)? What additional data do you anticipate needing in order to answer these questions/perform these tasks (explain your answer)?"
   ]
  },
  {
   "cell_type": "markdown",
   "metadata": {},
   "source": [
    "**Solution:**"
   ]
  }
 ],
 "metadata": {
  "anaconda-cloud": {},
  "kernelspec": {
   "display_name": "Python [Root]",
   "language": "python",
   "name": "Python [Root]"
  },
  "language_info": {
   "codemirror_mode": {
    "name": "ipython",
    "version": 2
   },
   "file_extension": ".py",
   "mimetype": "text/x-python",
   "name": "python",
   "nbconvert_exporter": "python",
   "pygments_lexer": "ipython2",
   "version": "2.7.12"
  }
 },
 "nbformat": 4,
 "nbformat_minor": 0
}
