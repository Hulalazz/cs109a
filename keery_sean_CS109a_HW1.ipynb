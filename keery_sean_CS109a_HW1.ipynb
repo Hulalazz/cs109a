{
 "cells": [
  {
   "cell_type": "markdown",
   "metadata": {},
   "source": [
    "# CS 109A/AC 209A/STAT 121A Data Science: Homework 1\n",
    "**Harvard University**<br>\n",
    "**Fall 2016**<br>\n",
    "**Instructors: W. Pan, P. Protopapas, K. Rader**<br>\n",
    "**Due Date: ** Tuesday, September 13th, 2016 at 11:59pm"
   ]
  },
  {
   "cell_type": "markdown",
   "metadata": {},
   "source": [
    "Download the `IPython` notebook as well as the data file from Vocareum and complete locally.\n",
    "\n",
    "To submit your assignment, in Vocareum, upload (using the 'Upload' button on your Jupyter Dashboard) your solution to Vocareum as a single notebook with following file name format:\n",
    "\n",
    "`last_first_CourseNumber_HW1.ipynb`\n",
    "\n",
    "where `CourseNumber` is the course in which you're enrolled (CS 109a, Stats 121a, AC 209a). Submit your assignment in Vocareum using the 'Submit' button.\n",
    "\n",
    "**Avoid running your notebook on Vocareum and avoid changing your file after submitting.**\n",
    "\n",
    "Problems on homework assignments are equally weighted. The Challenge Question is required for AC 209A students and optional for all others. Student who complete the Challenge Problem as optional extra credit will receive +0.5% towards your final grade for each correct solution. "
   ]
  },
  {
   "cell_type": "markdown",
   "metadata": {},
   "source": [
    "Import libraries"
   ]
  },
  {
   "cell_type": "code",
   "execution_count": 2,
   "metadata": {
    "collapsed": false
   },
   "outputs": [],
   "source": [
    "import numpy as np\n",
    "import pandas as pd\n",
    "import matplotlib\n",
    "import matplotlib.pyplot as plt\n",
    "%matplotlib inline"
   ]
  },
  {
   "cell_type": "markdown",
   "metadata": {},
   "source": [
    "---"
   ]
  },
  {
   "cell_type": "markdown",
   "metadata": {},
   "source": [
    "## Problem 0: Basic Information\n",
    "\n",
    "Fill in your basic information. "
   ]
  },
  {
   "cell_type": "markdown",
   "metadata": {},
   "source": [
    "### Part (a): Your name"
   ]
  },
  {
   "cell_type": "markdown",
   "metadata": {},
   "source": [
    "[Keery, Sean]"
   ]
  },
  {
   "cell_type": "markdown",
   "metadata": {},
   "source": [
    "### Part (b): Course Number"
   ]
  },
  {
   "cell_type": "markdown",
   "metadata": {},
   "source": [
    "[CS 109a]"
   ]
  },
  {
   "cell_type": "markdown",
   "metadata": {},
   "source": [
    "---"
   ]
  },
  {
   "cell_type": "markdown",
   "metadata": {
    "collapsed": true
   },
   "source": [
    "## Problem 1: Basic Data Visualization, Manipulation and Analysis\n",
    "\n",
    "In this problem, we will be using some basic tools of data visualization and statistical analysis to help build our intuition for finding, describing and interpreting patterns in data. We will be working with the data contained in the file `dataset_HW1.txt`. The data in `dataset_HW1.txt` contains biometric readings for a number of diabetic patients. In this problem, we will try to detect disease subtypes within this set of patients using their biometric readings."
   ]
  },
  {
   "cell_type": "markdown",
   "metadata": {},
   "source": [
    "### Part (a): Understanding a Pandas Dataframe\n",
    "Load the data from `dataset_HW1.txt` into a pandas dataframe. Get a basic picture of the information contained in the dataframe by printing the head, the size of the dataframe, the range of values in numeric-valued columns. Store the max, min and range information as a pandas dataframe."
   ]
  },
  {
   "cell_type": "markdown",
   "metadata": {},
   "source": [
    "<b>Solution:</b>"
   ]
  },
  {
   "cell_type": "code",
   "execution_count": 3,
   "metadata": {
    "collapsed": false
   },
   "outputs": [
    {
     "data": {
      "text/html": [
       "<div>\n",
       "<table border=\"1\" class=\"dataframe\">\n",
       "  <thead>\n",
       "    <tr style=\"text-align: right;\">\n",
       "      <th></th>\n",
       "      <th>patient_id</th>\n",
       "      <th>marker_1</th>\n",
       "      <th>marker_2</th>\n",
       "      <th>subtype</th>\n",
       "      <th>patient_age</th>\n",
       "      <th>patient_gender</th>\n",
       "    </tr>\n",
       "  </thead>\n",
       "  <tbody>\n",
       "    <tr>\n",
       "      <th>0</th>\n",
       "      <td>619681</td>\n",
       "      <td>21.640523</td>\n",
       "      <td>144.001572</td>\n",
       "      <td>0.0</td>\n",
       "      <td>3</td>\n",
       "      <td>female</td>\n",
       "    </tr>\n",
       "    <tr>\n",
       "      <th>1</th>\n",
       "      <td>619711</td>\n",
       "      <td>13.787380</td>\n",
       "      <td>162.408932</td>\n",
       "      <td>0.0</td>\n",
       "      <td>15</td>\n",
       "      <td>female</td>\n",
       "    </tr>\n",
       "    <tr>\n",
       "      <th>2</th>\n",
       "      <td>619595</td>\n",
       "      <td>22.675580</td>\n",
       "      <td>130.227221</td>\n",
       "      <td>0.0</td>\n",
       "      <td>6</td>\n",
       "      <td>female</td>\n",
       "    </tr>\n",
       "    <tr>\n",
       "      <th>3</th>\n",
       "      <td>619990</td>\n",
       "      <td>13.500884</td>\n",
       "      <td>138.486428</td>\n",
       "      <td>0.0</td>\n",
       "      <td>17</td>\n",
       "      <td>male</td>\n",
       "    </tr>\n",
       "    <tr>\n",
       "      <th>4</th>\n",
       "      <td>619157</td>\n",
       "      <td>2.967811</td>\n",
       "      <td>144.105985</td>\n",
       "      <td>0.0</td>\n",
       "      <td>6</td>\n",
       "      <td>female</td>\n",
       "    </tr>\n",
       "  </tbody>\n",
       "</table>\n",
       "</div>"
      ],
      "text/plain": [
       "   patient_id   marker_1    marker_2  subtype  patient_age patient_gender\n",
       "0      619681  21.640523  144.001572      0.0            3         female\n",
       "1      619711  13.787380  162.408932      0.0           15         female\n",
       "2      619595  22.675580  130.227221      0.0            6         female\n",
       "3      619990  13.500884  138.486428      0.0           17           male\n",
       "4      619157   2.967811  144.105985      0.0            6         female"
      ]
     },
     "execution_count": 3,
     "metadata": {},
     "output_type": "execute_result"
    }
   ],
   "source": [
    "df= pd.read_csv(\"dataset_HW1.txt\")\n",
    "#top 5 rows\n",
    "df.head()"
   ]
  },
  {
   "cell_type": "code",
   "execution_count": 4,
   "metadata": {
    "collapsed": false
   },
   "outputs": [
    {
     "data": {
      "text/plain": [
       "array(['patient_id', 'marker_1', 'marker_2', 'subtype', 'patient_age',\n",
       "       'patient_gender'], dtype=object)"
      ]
     },
     "execution_count": 4,
     "metadata": {},
     "output_type": "execute_result"
    }
   ],
   "source": [
    "#column names\n",
    "df.columns.values"
   ]
  },
  {
   "cell_type": "code",
   "execution_count": 5,
   "metadata": {
    "collapsed": false
   },
   "outputs": [
    {
     "name": "stdout",
     "output_type": "stream",
     "text": [
      "The number of patients is 2300\n"
     ]
    }
   ],
   "source": [
    "print \"The number of patients is\", df.shape[0]"
   ]
  },
  {
   "cell_type": "code",
   "execution_count": 6,
   "metadata": {
    "collapsed": false
   },
   "outputs": [
    {
     "data": {
      "text/html": [
       "<div>\n",
       "<table border=\"1\" class=\"dataframe\">\n",
       "  <thead>\n",
       "    <tr style=\"text-align: right;\">\n",
       "      <th></th>\n",
       "      <th>patient_id</th>\n",
       "      <th>marker_1</th>\n",
       "      <th>marker_2</th>\n",
       "      <th>subtype</th>\n",
       "      <th>patient_age</th>\n",
       "    </tr>\n",
       "  </thead>\n",
       "  <tbody>\n",
       "    <tr>\n",
       "      <th>count</th>\n",
       "      <td>2300.000000</td>\n",
       "      <td>2300.000000</td>\n",
       "      <td>2300.000000</td>\n",
       "      <td>2300.000000</td>\n",
       "      <td>2300.000000</td>\n",
       "    </tr>\n",
       "    <tr>\n",
       "      <th>mean</th>\n",
       "      <td>621149.808261</td>\n",
       "      <td>31.970053</td>\n",
       "      <td>105.974247</td>\n",
       "      <td>1.086957</td>\n",
       "      <td>38.868261</td>\n",
       "    </tr>\n",
       "    <tr>\n",
       "      <th>std</th>\n",
       "      <td>1306.440559</td>\n",
       "      <td>18.096490</td>\n",
       "      <td>52.306201</td>\n",
       "      <td>0.928643</td>\n",
       "      <td>27.211950</td>\n",
       "    </tr>\n",
       "    <tr>\n",
       "      <th>min</th>\n",
       "      <td>619000.000000</td>\n",
       "      <td>-22.591722</td>\n",
       "      <td>-56.388949</td>\n",
       "      <td>0.000000</td>\n",
       "      <td>3.000000</td>\n",
       "    </tr>\n",
       "    <tr>\n",
       "      <th>25%</th>\n",
       "      <td>619715.500000</td>\n",
       "      <td>20.495720</td>\n",
       "      <td>78.517068</td>\n",
       "      <td>0.000000</td>\n",
       "      <td>13.000000</td>\n",
       "    </tr>\n",
       "    <tr>\n",
       "      <th>50%</th>\n",
       "      <td>621491.500000</td>\n",
       "      <td>33.743705</td>\n",
       "      <td>105.179291</td>\n",
       "      <td>1.000000</td>\n",
       "      <td>35.000000</td>\n",
       "    </tr>\n",
       "    <tr>\n",
       "      <th>75%</th>\n",
       "      <td>622282.250000</td>\n",
       "      <td>45.752852</td>\n",
       "      <td>141.571884</td>\n",
       "      <td>2.000000</td>\n",
       "      <td>62.000000</td>\n",
       "    </tr>\n",
       "    <tr>\n",
       "      <th>max</th>\n",
       "      <td>622999.000000</td>\n",
       "      <td>80.209748</td>\n",
       "      <td>364.221777</td>\n",
       "      <td>3.000000</td>\n",
       "      <td>90.000000</td>\n",
       "    </tr>\n",
       "  </tbody>\n",
       "</table>\n",
       "</div>"
      ],
      "text/plain": [
       "          patient_id     marker_1     marker_2      subtype  patient_age\n",
       "count    2300.000000  2300.000000  2300.000000  2300.000000  2300.000000\n",
       "mean   621149.808261    31.970053   105.974247     1.086957    38.868261\n",
       "std      1306.440559    18.096490    52.306201     0.928643    27.211950\n",
       "min    619000.000000   -22.591722   -56.388949     0.000000     3.000000\n",
       "25%    619715.500000    20.495720    78.517068     0.000000    13.000000\n",
       "50%    621491.500000    33.743705   105.179291     1.000000    35.000000\n",
       "75%    622282.250000    45.752852   141.571884     2.000000    62.000000\n",
       "max    622999.000000    80.209748   364.221777     3.000000    90.000000"
      ]
     },
     "execution_count": 6,
     "metadata": {},
     "output_type": "execute_result"
    }
   ],
   "source": [
    "#dataframe statistics\n",
    "df.describe()"
   ]
  },
  {
   "cell_type": "code",
   "execution_count": 7,
   "metadata": {
    "collapsed": false
   },
   "outputs": [
    {
     "data": {
      "text/html": [
       "<div>\n",
       "<table border=\"1\" class=\"dataframe\">\n",
       "  <thead>\n",
       "    <tr style=\"text-align: right;\">\n",
       "      <th></th>\n",
       "      <th>marker_1</th>\n",
       "      <th>marker_2</th>\n",
       "      <th>subtype</th>\n",
       "      <th>patient_age</th>\n",
       "    </tr>\n",
       "  </thead>\n",
       "  <tbody>\n",
       "    <tr>\n",
       "      <th>max</th>\n",
       "      <td>80.209748</td>\n",
       "      <td>364.221777</td>\n",
       "      <td>3.0</td>\n",
       "      <td>90.0</td>\n",
       "    </tr>\n",
       "    <tr>\n",
       "      <th>min</th>\n",
       "      <td>-22.591722</td>\n",
       "      <td>-56.388949</td>\n",
       "      <td>0.0</td>\n",
       "      <td>3.0</td>\n",
       "    </tr>\n",
       "    <tr>\n",
       "      <th>range</th>\n",
       "      <td>102.801470</td>\n",
       "      <td>420.610725</td>\n",
       "      <td>3.0</td>\n",
       "      <td>87.0</td>\n",
       "    </tr>\n",
       "  </tbody>\n",
       "</table>\n",
       "</div>"
      ],
      "text/plain": [
       "         marker_1    marker_2  subtype  patient_age\n",
       "max     80.209748  364.221777      3.0         90.0\n",
       "min    -22.591722  -56.388949      0.0          3.0\n",
       "range  102.801470  420.610725      3.0         87.0"
      ]
     },
     "execution_count": 7,
     "metadata": {},
     "output_type": "execute_result"
    }
   ],
   "source": [
    "#now I'm going to select the numeric columns so I can put them in their own dataframe\n",
    "df_cols_1_to_4=df[range(1,5)]\n",
    "\n",
    "#get the column names to reuse in the new DF\n",
    "column_names=df_cols_1_to_4.columns.values\n",
    "\n",
    "#create new df using the new column names\n",
    "stats=pd.DataFrame(columns=column_names)\n",
    "\n",
    "#create max row\n",
    "stats.loc['max']= df_cols_1_to_4.max()\n",
    "\n",
    "#create min row\n",
    "stats.loc['min']= df_cols_1_to_4.min()\n",
    "\n",
    "#create range row\n",
    "stats.loc['range']= df_cols_1_to_4.max()-df_cols_1_to_4.min()\n",
    "\n",
    "#make sure everything worked\n",
    "stats.head()"
   ]
  },
  {
   "cell_type": "markdown",
   "metadata": {},
   "source": [
    "### Part (b): Descriptive Statistics\n",
    "Find the mean, median and standard deviation of the real-valued columns in the entire dataset. Now find the same set of descriptive statistics for each of the following subset of data:\n",
    "\n",
    "1. children (ages 3 - 17)\n",
    "2. adult males (ages 18 - 90)\n",
    "3. adult females (ages 18 - 90)\n",
    "\n",
    "Append these stats to the dataframe from part (a), containing the max, min and range. Explain what these stats say about the entire dataset as well as each of the above subsets.\n",
    "\n",
    "Give a summary of the demographics of the patients contained in the dataset, i.e. how many children, how many adults, how many adult females and how many adult males. Display these results as pie charts."
   ]
  },
  {
   "cell_type": "markdown",
   "metadata": {},
   "source": [
    "**Solution:**"
   ]
  },
  {
   "cell_type": "code",
   "execution_count": 8,
   "metadata": {
    "collapsed": false
   },
   "outputs": [
    {
     "data": {
      "text/html": [
       "<div>\n",
       "<table border=\"1\" class=\"dataframe\">\n",
       "  <thead>\n",
       "    <tr style=\"text-align: right;\">\n",
       "      <th></th>\n",
       "      <th>marker_1</th>\n",
       "      <th>marker_2</th>\n",
       "      <th>subtype</th>\n",
       "      <th>patient_age</th>\n",
       "    </tr>\n",
       "  </thead>\n",
       "  <tbody>\n",
       "    <tr>\n",
       "      <th>max</th>\n",
       "      <td>80.209748</td>\n",
       "      <td>364.221777</td>\n",
       "      <td>3.0</td>\n",
       "      <td>90.000000</td>\n",
       "    </tr>\n",
       "    <tr>\n",
       "      <th>min</th>\n",
       "      <td>-22.591722</td>\n",
       "      <td>-56.388949</td>\n",
       "      <td>0.0</td>\n",
       "      <td>3.000000</td>\n",
       "    </tr>\n",
       "    <tr>\n",
       "      <th>range</th>\n",
       "      <td>102.801470</td>\n",
       "      <td>420.610725</td>\n",
       "      <td>3.0</td>\n",
       "      <td>87.000000</td>\n",
       "    </tr>\n",
       "    <tr>\n",
       "      <th>mean</th>\n",
       "      <td>31.970053</td>\n",
       "      <td>105.974247</td>\n",
       "      <td>NaN</td>\n",
       "      <td>38.868261</td>\n",
       "    </tr>\n",
       "    <tr>\n",
       "      <th>median</th>\n",
       "      <td>33.743705</td>\n",
       "      <td>105.179291</td>\n",
       "      <td>NaN</td>\n",
       "      <td>35.000000</td>\n",
       "    </tr>\n",
       "    <tr>\n",
       "      <th>std</th>\n",
       "      <td>18.096490</td>\n",
       "      <td>52.306201</td>\n",
       "      <td>NaN</td>\n",
       "      <td>27.211950</td>\n",
       "    </tr>\n",
       "  </tbody>\n",
       "</table>\n",
       "</div>"
      ],
      "text/plain": [
       "          marker_1    marker_2  subtype  patient_age\n",
       "max      80.209748  364.221777      3.0    90.000000\n",
       "min     -22.591722  -56.388949      0.0     3.000000\n",
       "range   102.801470  420.610725      3.0    87.000000\n",
       "mean     31.970053  105.974247      NaN    38.868261\n",
       "median   33.743705  105.179291      NaN    35.000000\n",
       "std      18.096490   52.306201      NaN    27.211950"
      ]
     },
     "execution_count": 8,
     "metadata": {},
     "output_type": "execute_result"
    }
   ],
   "source": [
    "#just get meaninful columns\n",
    "df_cols_1_2_4=df[[1,2,4]]\n",
    "\n",
    "#create mean row\n",
    "stats.loc['mean']= df_cols_1_2_4.mean()\n",
    "\n",
    "#create median row\n",
    "stats.loc['median']= df_cols_1_2_4.median()\n",
    "\n",
    "#create standard deviaton row\n",
    "stats.loc['std']= df_cols_1_2_4.std()\n",
    "\n",
    "stats"
   ]
  },
  {
   "cell_type": "code",
   "execution_count": 9,
   "metadata": {
    "collapsed": false
   },
   "outputs": [
    {
     "ename": "NameError",
     "evalue": "name 'child_stats' is not defined",
     "output_type": "error",
     "traceback": [
      "\u001b[0;31m---------------------------------------------------------------------------\u001b[0m",
      "\u001b[0;31mNameError\u001b[0m                                 Traceback (most recent call last)",
      "\u001b[0;32m<ipython-input-9-cebd11570409>\u001b[0m in \u001b[0;36m<module>\u001b[0;34m()\u001b[0m\n\u001b[1;32m     14\u001b[0m \u001b[0;34m\u001b[0m\u001b[0m\n\u001b[1;32m     15\u001b[0m \u001b[0;31m# reuse above code simplify selection by using dataframe directly instead of using intermediate values\u001b[0m\u001b[0;34m\u001b[0m\u001b[0;34m\u001b[0m\u001b[0m\n\u001b[0;32m---> 16\u001b[0;31m \u001b[0mchild_stats\u001b[0m\u001b[0;34m.\u001b[0m\u001b[0mloc\u001b[0m\u001b[0;34m[\u001b[0m\u001b[0;34m'child_median'\u001b[0m\u001b[0;34m]\u001b[0m\u001b[0;34m=\u001b[0m \u001b[0mchild_data\u001b[0m\u001b[0;34m[\u001b[0m\u001b[0mrange\u001b[0m\u001b[0;34m(\u001b[0m\u001b[0;36m1\u001b[0m\u001b[0;34m,\u001b[0m\u001b[0;36m5\u001b[0m\u001b[0;34m)\u001b[0m\u001b[0;34m]\u001b[0m\u001b[0;34m.\u001b[0m\u001b[0mmedian\u001b[0m\u001b[0;34m(\u001b[0m\u001b[0;34m)\u001b[0m\u001b[0;34m\u001b[0m\u001b[0m\n\u001b[0m\u001b[1;32m     17\u001b[0m \u001b[0mchild_stats\u001b[0m\u001b[0;34m.\u001b[0m\u001b[0mloc\u001b[0m\u001b[0;34m[\u001b[0m\u001b[0;34m'child_mean'\u001b[0m\u001b[0;34m]\u001b[0m\u001b[0;34m=\u001b[0m \u001b[0mchild_data\u001b[0m\u001b[0;34m[\u001b[0m\u001b[0mrange\u001b[0m\u001b[0;34m(\u001b[0m\u001b[0;36m1\u001b[0m\u001b[0;34m,\u001b[0m\u001b[0;36m5\u001b[0m\u001b[0;34m)\u001b[0m\u001b[0;34m]\u001b[0m\u001b[0;34m.\u001b[0m\u001b[0mmean\u001b[0m\u001b[0;34m(\u001b[0m\u001b[0;34m)\u001b[0m\u001b[0;34m\u001b[0m\u001b[0m\n\u001b[1;32m     18\u001b[0m \u001b[0mchild_stats\u001b[0m\u001b[0;34m.\u001b[0m\u001b[0mloc\u001b[0m\u001b[0;34m[\u001b[0m\u001b[0;34m'child_std'\u001b[0m\u001b[0;34m]\u001b[0m\u001b[0;34m=\u001b[0m \u001b[0mchild_data\u001b[0m\u001b[0;34m[\u001b[0m\u001b[0mrange\u001b[0m\u001b[0;34m(\u001b[0m\u001b[0;36m1\u001b[0m\u001b[0;34m,\u001b[0m\u001b[0;36m5\u001b[0m\u001b[0;34m)\u001b[0m\u001b[0;34m]\u001b[0m\u001b[0;34m.\u001b[0m\u001b[0mstd\u001b[0m\u001b[0;34m(\u001b[0m\u001b[0;34m)\u001b[0m\u001b[0;34m\u001b[0m\u001b[0m\n",
      "\u001b[0;31mNameError\u001b[0m: name 'child_stats' is not defined"
     ]
    }
   ],
   "source": [
    "# break out data by age & adult gender\n",
    "child_data=df[df['patient_age']<18]\n",
    "female_data=df[(df['patient_age']>17) & (df['patient_gender']=='female')]\n",
    "male_data=df[(df['patient_age']>17) & (df['patient_gender']=='male')]\n",
    "\n",
    "# get the column names to reuse in the new child DF\n",
    "column_names=child_data[range(1,5)].columns.values\n",
    "\n",
    "# reuse above code simplify selection by using dataframe directly instead of using intermediate values                       \n",
    "male_stats = pd.DataFrame(columns=column_names)\n",
    "male_stats.loc['child_max']= child_data[range(1,5)].max()\n",
    "male_stats.loc['child_min']= child_data[range(1,5)].min()\n",
    "male_stats.loc['child_range']= child_data[range(1,5)].max()-child_data[range(1,5)].min()\n",
    "\n",
    "# reuse above code simplify selection by using dataframe directly instead of using intermediate values                       \n",
    "child_stats.loc['child_median']= child_data[range(1,5)].median()\n",
    "child_stats.loc['child_mean']= child_data[range(1,5)].mean()\n",
    "child_stats.loc['child_std']= child_data[range(1,5)].std()\n",
    "\n",
    "# make sure everything worked\n",
    "child_stats"
   ]
  },
  {
   "cell_type": "code",
   "execution_count": null,
   "metadata": {
    "collapsed": false
   },
   "outputs": [],
   "source": [
    "# get the column names to reuse in the new male DF\n",
    "column_names=male_data[range(1,5)].columns.values\n",
    "\n",
    "# reuse above code simplify selection by using dataframe directly instead of using intermediate values                       \n",
    "male_stats = pd.DataFrame(columns=column_names)\n",
    "male_stats.loc['male_max']= male_data[range(1,5)].max()\n",
    "male_stats.loc['male_min']= male_data[range(1,5)].min()\n",
    "male_stats.loc['male_range']= male_data[range(1,5)].max()-male_data[range(1,5)].min()\n",
    "\n",
    "# reuse above code simplify selection by using dataframe directly instead of using intermediate values                       \n",
    "male_stats.loc['male_median']= male_data[range(1,5)].median()\n",
    "male_stats.loc['male_mean']= male_data[range(1,5)].mean()\n",
    "male_stats.loc['male_std']= male_data[range(1,5)].std()\n",
    "\n",
    "# make sure everything worked\n",
    "male_stats"
   ]
  },
  {
   "cell_type": "code",
   "execution_count": null,
   "metadata": {
    "collapsed": false
   },
   "outputs": [],
   "source": [
    "# get the column names to reuse in the new femal DF\n",
    "column_names=female_data[range(1,5)].columns.values\n",
    "\n",
    "# reuse above code simplify selection by using dataframe directly instead of using intermediate values                       \n",
    "female_stats = pd.DataFrame(columns=column_names)\n",
    "female_stats.loc['female_max']= female_data[range(1,5)].max()\n",
    "female_stats.loc['female_min']= female_data[range(1,5)].min()\n",
    "female_stats.loc['female_range']= female_data[range(1,5)].max()-female_data[range(1,5)].min()\n",
    "\n",
    "# reuse above code simplify selection by using dataframe directly instead of using intermediate values                       \n",
    "female_stats.loc['female_median']= female_data[range(1,5)].median()\n",
    "female_stats.loc['female_mean']= female_data[range(1,5)].mean()\n",
    "female_stats.loc['female_std']= female_data[range(1,5)].std()\n",
    "\n",
    "# make sure everything worked\n",
    "female_stats"
   ]
  },
  {
   "cell_type": "code",
   "execution_count": null,
   "metadata": {
    "collapsed": false
   },
   "outputs": [],
   "source": [
    "# I haven't appended the data to the original stats DF yet\n",
    "\n",
    "# Explain what these stats say about the entire dataset as well as each of the above subsets.\n",
    "\n",
    "# Demographics - adults vs children\n",
    "children=child_data.shape[0]\n",
    "adults=df.shape[0]-children\n",
    "fig=plt.figure(figsize=(10,10))\n",
    "ax1=fig.add_subplot(221)\n",
    "ax1.pie([children,adults],\n",
    "       labels=['children: '+ str(children),'adults: '+str(adults)],\n",
    "       colors=['blue','gold'],\n",
    "       autopct='%1.1f%%',shadow=True,startangle=90)\n",
    "\n",
    "# Demographics - males vs female\n",
    "males=df[df['patient_gender']=='male'].shape[0]\n",
    "females=df.shape[0]-males\n",
    "fig=plt.figure(figsize=(10,10))\n",
    "ax1=fig.add_subplot(222)\n",
    "ax1.pie([males,females],\n",
    "       labels=['males: '+ str(males),'females: '+str(females)],\n",
    "       colors=['blue','gold'],\n",
    "       autopct='%1.1f%%',shadow=True,startangle=90)\n",
    "\n",
    "# Demographics - adult males vs adult femails\n",
    "adult_males=male_data.shape[0]\n",
    "adult_females=female_data.shape[0]\n",
    "fig=plt.figure(figsize=(10,10))\n",
    "ax1=fig.add_subplot(223)\n",
    "ax1.pie([adult_males,adult_females],\n",
    "       labels=['adult males: '+ str(adult_males),'adult females: '+str(adult_females)],\n",
    "       colors=['blue','gold'],\n",
    "       autopct='%1.1f%%',shadow=True,startangle=90)\n",
    "plt.show()"
   ]
  },
  {
   "cell_type": "markdown",
   "metadata": {},
   "source": [
    "### Part (c): Data Visualization\n",
    "To understand how the biometric reading might help us determine diabetic subtypes, we begin with some visual analysis of the biometric data:\n",
    "\n",
    "1. plot histograms of marker 1 and marker 2 (play with different values for the bin number to find the most usefule visualization)\n",
    "2. plot both markers in a scatter plot, color each point according to disease subtype\n",
    "\n",
    "Do the above for each demographics within the data: children, adult men and adult women."
   ]
  },
  {
   "cell_type": "markdown",
   "metadata": {},
   "source": [
    "**Solution:**"
   ]
  },
  {
   "cell_type": "code",
   "execution_count": null,
   "metadata": {
    "collapsed": false,
    "scrolled": true
   },
   "outputs": [],
   "source": [
    "fig=plt.figure(figsize=(10,10))\n",
    "# marker 1 histogram\n",
    "mk1=fig.add_subplot(221)\n",
    "mk1.hist(df['marker_1'],10)\n",
    "mk1.hist(df['marker_1'],50)\n",
    "mk1.hist(df['marker_1'],100)\n",
    "# marker 2 histogram\n",
    "mk2=fig.add_subplot(222)\n",
    "mk2.hist(df['marker_2'],10)\n",
    "mk2.hist(df['marker_2'],50)\n",
    "mk2.hist(df['marker_2'],100)\n",
    "\n",
    "# marker 1 v marker 2 scatter\n",
    "mk3=fig.add_subplot(223)\n",
    "mk3.scatter(df['marker_1'],df['marker_2'],color=['#e0ecf4','#8856a7'])\n",
    "\n",
    "plt.show()\n",
    "\n",
    "#figure 2 children\n",
    "fig2=plt.figure(figsize=(10,10))\n",
    "# marker 1 histogram\n",
    "mk1=fig2.add_subplot(221)\n",
    "mk1.hist(child_data['marker_1'],10)\n",
    "mk1.hist(child_data['marker_1'],50)\n",
    "mk1.hist(child_data['marker_1'],100)\n",
    "# marker 2 histogram\n",
    "mk2=fig2.add_subplot(222)\n",
    "mk2.hist(child_data['marker_2'],10)\n",
    "mk2.hist(child_data['marker_2'],50)\n",
    "mk2.hist(child_data['marker_2'],100)\n",
    "\n",
    "# marker 1 v marker 2 scatter\n",
    "mk3=fig2.add_subplot(223)\n",
    "mk3.scatter(child_data['marker_1'],child_data['marker_2'],color=['blue','gold','#e0ecf4','#8856a7'])\n",
    "plt.show()\n",
    "\n",
    "#figure 3 adult males\n",
    "fig3=plt.figure(figsize=(10,10))\n",
    "# marker 1 histogram\n",
    "mk1=fig3.add_subplot(221)\n",
    "mk1.hist(male_data['marker_1'],10)\n",
    "mk1.hist(male_data['marker_1'],50)\n",
    "mk1.hist(male_data['marker_1'],100)\n",
    "# marker 2 histogram\n",
    "mk2=fig3.add_subplot(222)\n",
    "mk2.hist(male_data['marker_2'],10)\n",
    "mk2.hist(male_data['marker_2'],50)\n",
    "mk2.hist(male_data['marker_2'],100)\n",
    "\n",
    "# marker 1 v marker 2 scatter\n",
    "mk3=fig3.add_subplot(223)\n",
    "mk3.scatter(male_data['marker_1'],male_data['marker_2'],color=['blue','gold','#e0ecf4','#8856a7'])\n",
    "plt.show()\n",
    "\n",
    "#figure 4 adult females\n",
    "fig4=plt.figure(figsize=(10,10))\n",
    "# marker 1 histogram\n",
    "mk1=fig4.add_subplot(221)\n",
    "mk1.hist(female_data['marker_1'],10)\n",
    "mk1.hist(female_data['marker_1'],50)\n",
    "mk1.hist(female_data['marker_1'],100)\n",
    "# marker 2 histogram\n",
    "mk2=fig4.add_subplot(222)\n",
    "mk2.hist(female_data['marker_2'],10)\n",
    "mk2.hist(female_data['marker_2'],50)\n",
    "mk2.hist(female_data['marker_2'],100)\n",
    "\n",
    "# marker 1 v marker 2 scatter\n",
    "mk3=fig4.add_subplot(223)\n",
    "mk3.scatter(female_data['marker_1'],female_data['marker_2'],color=['blue','gold','#e0ecf4','#8856a7'])\n",
    "plt.show()\n"
   ]
  },
  {
   "cell_type": "markdown",
   "metadata": {},
   "source": [
    "### Part (d): Putting it All Together\n",
    "\n",
    "Summarize and interpret the patterns in the **histograms** from Part (c), compare these patterns to each other. In particular, explain what these patterns indicate about the relationship between the biometric data (marker 1 and marker 2) and subtypes of diabetes amongst the patients.\n",
    "\n",
    "Summarize and interpret the patterns in the **scatter plots** from Part (c), compare these patterns to each other. In particular, explain what these patterns indicate about the relationship between the biometric readings (marker 1 and marker 2) and subtypes of diabetes amongst the patients.\n",
    "\n",
    "Do your analyses of the patterns in histograms and the scatter plots support or contradict each other? Is one of the two visualizations more useful than the other for anlyzing the relationship between biometric data and disease subtypes? If so which, and why?\n",
    "\n",
    "Compare the descriptive stats you computed in part (b) with the visualizations. Which aspects of the visualizations (histogram and scatter plots) does each statistic measure? \n",
    "\n",
    "Do the stats support, contradict or enhance your visual analysis of the biometric data? \n",
    "\n",
    "Finally, what can you conclude, based on your visual analysis and stats, about the relationship between biometric data and diabetic subtypes in this pool of patients?"
   ]
  },
  {
   "cell_type": "markdown",
   "metadata": {},
   "source": [
    "**Solution:**"
   ]
  },
  {
   "cell_type": "markdown",
   "metadata": {},
   "source": [
    "Histograms\n",
    "In the histograms of (both Marker 1 and Marker 2) for the entire data set, it looks like there might be multiple modes, but it's not entirely clear that this is not due to noise.  In the histograms of (both Marker 1 and Marker 2) for children, it is very clear that the distributions are bimodal. The children dataset falls into two distinct groups for each Marker 1 & 2 biometric. It's unclear if the subgrouping by the two markers are the same or different.  The histograms of (both Marker 1 and Marker 2) for adult women, the distributions looks unimodal. The histogram of Marker 1 for adult men also looks unimodal, while the histogram of Marker 2 for adult men looks bimodal\n",
    "Scatter Plots\n",
    "It appears that the overall dataset has four disease subtypes, however, all four are present only in children. There are only two subtypes present for adult women and three for adult men.  \n",
    "The scatter plot (color code by disease subtype) for the entire dataset has no clear separation between the data points in the different subtypes.\n",
    "The scatter plot for the children dataset has points in the different subtypes that are well separated. Points for each subtypes form spherical clusters and are concentrated around a \"center\".\n",
    "The scatter plot for the adult female dataset has points, in the different subtypes, that form clusters.  Those clusters are separated and are crescent shaped.\n",
    "The scatter plot for the adult male dataset also forms clusters. Two of the clusters are overlapping.\n",
    "Comparison of Visualizations and Stats\n",
    "The modes in the histogram correspond to clustering of the biometric data by disease subtype.\n",
    "Using the histogram alone, we cannot necessarily deduce the distribution of the scatter plots.\n",
    "Using the histograms alone, we cannot deduce clustering by disease subtypes. The modes in the histogram tell us where the data is concentrated along which axis, but they cannot tell us which disease subtypes exist in each mode.\n",
    "The stats we calculated for the entire dataset also give no indication of the patterns we see in the scatter plots.\n",
    "Conclusion\n",
    "By looking at the data one demographic group at a time, then, for all demographic groups, we can identify clusters of disease type.  Those clusters are well separated for children along both the Marker 1 and Marker 2 axes. The separation is not so clear for the other two groups."
   ]
  },
  {
   "cell_type": "markdown",
   "metadata": {},
   "source": [
    "---"
   ]
  },
  {
   "cell_type": "markdown",
   "metadata": {},
   "source": [
    "## Problem 2: Introduction to Classification\n",
    "\n",
    "In this problem, we will use your analysis of the relationship between biometric data and diabetic subtypes from Problem 1 to **classify** the disease subtype of new patients."
   ]
  },
  {
   "cell_type": "markdown",
   "metadata": {},
   "source": [
    "### Part (a): A Disease Subtype Classifier for Children\n",
    "\n",
    "In the pool of child patients, compute the mean biometric data (marker 1 and marker 2) for each diabetic subtype. For a new patient between the ages of 3 and 18, we will classify the patient as the subtype whose biometric mean is most ``similar\" to the patient's biometric data.\n",
    "\n",
    "- Explain why this way of classifying disease subtypes of new patients is reasonable. Support your explanation with your analysis from Problem 1.\n",
    "\n",
    "To evaluate our classifier, we can use it to classify a set of new patients whose disease subtype we already know. We measure the quality of our classifier by compute the percentage of new patients whose disease subtype we correctly classify. \n",
    "\n",
    "- Explain why the percentage of correct classification is a reasonable way to evaluate our classifier. What might be some shortcomings or ambiguities of this method of evaluation (**Hint:** think about the effect of the number of patients in each disease subtype, confidence level etc)."
   ]
  },
  {
   "cell_type": "markdown",
   "metadata": {},
   "source": [
    "**Solution:**"
   ]
  },
  {
   "cell_type": "code",
   "execution_count": null,
   "metadata": {
    "collapsed": false
   },
   "outputs": [],
   "source": [
    "#compute the mean biometric data (marker 1 and marker 2) for each diabetic subtype\n",
    "# In the pool of child patients, compute the mean biometric data (marker 1 and marker 2) for each diabetic subtype\n",
    "print \"The marker 1 mean for children is \", child_data['marker_1'].mean()\n",
    "print \"The marker 2 mean for children is \", child_data['marker_2'].mean()"
   ]
  },
  {
   "cell_type": "markdown",
   "metadata": {},
   "source": [
    "This way of classifying disease subtypes of new patients is reasonable as the subtype is clearly identifiable by markers on either side of the mean.\n",
    "\n",
    "The histograms above support this by presenting a bimodal distribution across both markers.  The mean is in the middle of both of these histograms.\n",
    "\n",
    "The percentage metric has the advantage of being easy to understand and makes comparison of the performance of different classifiers trivial,\n",
    "\n",
    "**What might be some shortcomings or ambiguities of this method of evaluation\n",
    "\n",
    "In cases of outliers or in cases of high variance, our confidence would decrease from a simple measure of percentages.  If our patient sample size is too small, the mean may deviate from a larger population.  It also does not take into account false positives."
   ]
  },
  {
   "cell_type": "markdown",
   "metadata": {},
   "source": [
    "### Part (b): Implementation\n",
    "\n",
    "- __Randomly__ split the child patient data into two sets: training (70%) and testing (30%). \n",
    "\n",
    "- Implement the scheme for classifying disease subtypes described in Part (a). That is, write a function, `classify`, that takes as input the training data and testing data (representing new patients), which then:\n",
    "\n",
    "    1. computes the biometric means for subtypes using the training data \n",
    "    2. classifies the disease subtype of each new patient by comparing their biometric data to the means you've computed (i.e. compute the Euclidean distance between a new patient's biometric data and the biometric means of each disease subtype, classify the new patient as the subtype whose means is most similar in term of the Euclidean distance)\n",
    "\n",
    "\n",
    "- Write a function, `evaluate`, that takes as input the actual disease subtypes for a set of patients as well as the predicted disease subtypes and computes the percentage of new patients who are correctly classified.\n",
    "\n",
    "- Use the `classify` function to classify the disease subtypes of your testing data. Then use the `evaluate` function to evaluate your classification."
   ]
  },
  {
   "cell_type": "markdown",
   "metadata": {},
   "source": [
    "**Solution:**"
   ]
  },
  {
   "cell_type": "code",
   "execution_count": null,
   "metadata": {
    "collapsed": false
   },
   "outputs": [],
   "source": [
    "# split the child patient data into two sets: training (70%) and testing (30%).\n",
    "# http://stackoverflow.com/questions/24147278/how-do-i-create-test-and-train-samples-from-one-dataframe-with-pandas\n",
    "mask = np.random.rand(len(child_data)) < 0.7\n",
    "\n",
    "train = child_data[mask]\n",
    "test = child_data[~mask]\n",
    "#train\n",
    "#test"
   ]
  },
  {
   "cell_type": "code",
   "execution_count": null,
   "metadata": {
    "collapsed": false
   },
   "outputs": [],
   "source": [
    "# print subtypes\n",
    "set(child_data['subtype'])"
   ]
  },
  {
   "cell_type": "code",
   "execution_count": null,
   "metadata": {
    "collapsed": false
   },
   "outputs": [],
   "source": [
    "# # classify\n",
    "# # input the training data and testing data \n",
    "# def classify(train,test):\n",
    "#     # compute the biometric means for subtypes of the training data    # Get only the unique values for subtype\n",
    "#     # Get only the unique values for subtype\n",
    "#     subtypes_set = set(train['subtype'])\n",
    "    \n",
    "#     # Compute the biometric means for subtypes using the training data, i.e. the biometric mean for marker_1 and subtype = 0\n",
    "#     subtype_means = pd.DataFrame(columns=['mean'])\n",
    "    \n",
    "#     for subtype in subtypes_set:\n",
    "#         subtype_means.loc['s' + str(int(subtype)) + 'm1'] = train[train['subtype']==subtype]['marker_1'].mean()    \n",
    "#         subtype_means.loc['s' + str(int(subtype)) + 'm2'] = train[train['subtype']==subtype]['marker_2'].mean()\n",
    "    \n",
    "# #     print subtype_means\n",
    "#     returnvalue = {}\n",
    "#     # classifies the disease subtype of each new patient by comparing their biometric data to the means you've computed \n",
    "#     #  (i.e. compute the Euclidean distance between a new patient's biometric data and the biometric means of each disease subtype, classify the new patient as the subtype whose means is most similar in term of the Euclidean distance)\n",
    "#     for patient in test.iterrows():\n",
    "#         mypatientlist = {}\n",
    "#         for index, row in subtype_means.iterrows():\n",
    "# #             print row['mean']\n",
    "#             mypatientlist[index] = ((patient[1]['marker_1'] - row['mean'])**2 + (patient[1]['marker_2'] -  row['mean'])**2)**0.5\n",
    "# #         print mypatientlist\n",
    "#         closest = min(mypatientlist, key=mypatientlist.get)\n",
    "    \n",
    "#         returnvalue[patient[1]['patient_id']] = closest\n",
    "#     return returnvalue\n",
    "\n",
    "# out = classify(train,test)\n",
    "# # print out"
   ]
  },
  {
   "cell_type": "code",
   "execution_count": null,
   "metadata": {
    "collapsed": true
   },
   "outputs": [],
   "source": [
    "# Classify disease subtypes for new patients based on a subtype whose biometric mean is most similar to the patient's biometric data\n",
    "def classify(train, test):\n",
    "    \n",
    "    # Setup our classified return type, {'patient_id':619711,'predicted_subtype':1.0,'actual_subtype':1.0}\n",
    "    classified = pd.DataFrame(columns=['patient_id', 'predicted_subtype', 'actual_subtype'])\n",
    "    \n",
    "    # Get only the unique values for subtype, e.g. 0.0, 1.0, 2.0, 3.0\n",
    "    subtypes_set = set(train['subtype'])\n",
    "    \n",
    "    # Create a dataframe to store the calculated mean for each subtype\n",
    "    subtype_means = pd.DataFrame(index=['mean'])\n",
    "    \n",
    "    # Let's \"train\" our model\n",
    "    # Compute the biometric means for subtypes using the training data, i.e. the biometric mean for marker_1 and subtype = 0.0\n",
    "    for subtype in subtypes_set:\n",
    "        # For marker 1 for this subtype,\n",
    "        # Add the new column name in the dataframe for this subtype/marker combo\n",
    "        col_name = 's' + str(int(subtype)) + 'm1'\n",
    "        subtype_means[col_name] = range(len(subtype_means))\n",
    "        \n",
    "        # Add the mean data to the row for the given subtype/marker combo\n",
    "        subtype_means.loc['mean', col_name ] = train[train['subtype']==subtype]['marker_1'].mean()    \n",
    "        \n",
    "        # For marker 2 for this subtype,\n",
    "        # Add the new column name in the dataframe for this subtype/marker combo\n",
    "        col_name = 's' + str(int(subtype)) + 'm2'\n",
    "        subtype_means[col_name] = range(len(subtype_means))\n",
    "        \n",
    "        # Add the mean data to the row for the given subtype/marker combo\n",
    "        subtype_means.loc['mean', col_name ] = train[train['subtype']==subtype]['marker_2'].mean()\n",
    "\n",
    "    #print subtype_means \n",
    "\n",
    "    \n",
    "    # Let's \"classify\" our test data according to the model\n",
    "    # Classify the disease subtype of each new patient by comparing their biometric data to the means computed\n",
    "    \n",
    "    i = 0\n",
    "    # Loop through each test patient\n",
    "    for patient in test.iterrows():\n",
    "        \n",
    "        patient_id = int(patient[1]['patient_id'])\n",
    "        marker_1 = float(patient[1]['marker_1'])\n",
    "        marker_2 = float(patient[1]['marker_2'])\n",
    "        actual_subtype = float(patient[1]['subtype'])\n",
    "\n",
    "        \n",
    "        j = 0\n",
    "        nearest = 9.0\n",
    "        patient_nearest = {}\n",
    "        # Loop through the marker/subtypes combos to find the least distant from the mean\n",
    "        for column_name in subtype_means:\n",
    "    \n",
    "            #print \"column_name=\", column_name\n",
    "            #print \"subtype_means[column_name]=\", subtype_means[column_name]\n",
    "\n",
    "            subtype_mean = float(subtype_means[column_name])\n",
    "            \n",
    "            # Evaluate the euclidean mean for each subtype/marker combo to add to the patient dataframe\n",
    "            patient_nearest[j] = ((marker_1 - subtype_mean) ** 2 + (marker_2 - subtype_mean) ** 2) ** 0.5\n",
    "            j = j+1\n",
    "        \n",
    "            nearest = min(patient_nearest, key=patient_nearest.get)\n",
    "                  \n",
    "        # Load the current classified patient data\n",
    "        classified.loc[i] = [patient_id, actual_subtype, nearest]\n",
    "        i = i+1\n",
    "        \n",
    "    return classified\n"
   ]
  },
  {
   "cell_type": "code",
   "execution_count": null,
   "metadata": {
    "collapsed": false
   },
   "outputs": [],
   "source": [
    "# evaluate \n",
    "# in: actual disease subtypes , predicted disease subtypes\n",
    "# out: percentage correctly classified.\n",
    "# print test['subtype']\n",
    "# def evaluate(data,prediction):\n",
    "#     # find out actual\n",
    "#     for child in data.iterrows():\n",
    "#         print child\n",
    "#         print data[0]['subtype'],data[0]['patient_id']\n",
    "#     return correct\n",
    "# Evaluate the performance of the classification\n",
    "def evaluate(classified):\n",
    "    \n",
    "    total = len(classified)\n",
    "    correct = 0.0\n",
    "\n",
    "    for patient in classified.iterrows():\n",
    "        \n",
    "        if patient[1]['actual_subtype'] == patient[1]['predicted_subtype']:\n",
    "            correct = correct + 1.0\n",
    "\n",
    "    correctness = (correct/total)*100\n",
    "            \n",
    "    print \"Total patients:\", total\n",
    "    print \"Correct subtypes predictions:\", correct\n",
    "    print \"Accuracy:\", correctness, \"%\"\n",
    "\n",
    "    \n",
    "    return correctness\n",
    "classified=classify(train,test)\n",
    "evaluate(classified)"
   ]
  },
  {
   "cell_type": "markdown",
   "metadata": {},
   "source": [
    "### Part (c): Further Evaluation of Our Classifier\n",
    "\n",
    "- Create training and testing sets from the adult female patients. Use the `classify` function from Part (b) to classify the disease subtypes of your testing data. Then use the `evaluate` function to evaluate your classification.\n",
    "\n",
    "- Do the same for adult male patients.\n",
    "\n",
    "- Is our method of classifying disease subtypes valid for adult male and adult female patients (use the returned values of the `evaluate` function to support your explanation)? \n",
    "\n",
    "- Explain why our method of classifying disease subtypes is or is not valid for adult data. "
   ]
  },
  {
   "cell_type": "markdown",
   "metadata": {},
   "source": [
    "**Solution:**"
   ]
  },
  {
   "cell_type": "code",
   "execution_count": null,
   "metadata": {
    "collapsed": false
   },
   "outputs": [],
   "source": [
    "# Clasify and evaluate adult female patient data\n",
    "# Randomly split the patient data into two sets: training (70%) and testing (30%) \n",
    "cut = np.random.rand(len(female_data)) < 0.7\n",
    "\n",
    "# Training data is below the cut point\n",
    "training_data = female_data[cut]\n",
    "\n",
    "# Testing data is above the cut point\n",
    "testing_data = female_data[~cut]\n",
    "\n",
    "# Run the classifier\n",
    "classified = classify(training_data, testing_data)\n",
    "\n",
    "# Run the evaluation\n",
    "evaluate(classified)\n",
    "\n",
    "# Display the output of the classifier\n",
    "print \"\\n\", classified\n"
   ]
  },
  {
   "cell_type": "code",
   "execution_count": null,
   "metadata": {
    "collapsed": false
   },
   "outputs": [],
   "source": [
    "# Clasify and evaluate adult male patient data\n",
    "# Randomly split the patient data into two sets: training (70%) and testing (30%) \n",
    "cut = np.random.rand(len(male_data)) < 0.7\n",
    "\n",
    "# Training data is below the cut point\n",
    "training_data = male_data[cut]\n",
    "\n",
    "# Testing data is above the cut point\n",
    "testing_data = male_data[~cut]\n",
    "\n",
    "# Run the classifier\n",
    "classified = classify(training_data, testing_data)\n",
    "\n",
    "# Run the evaluation\n",
    "evaluate(classified)\n",
    "\n",
    "# Display the output of the classifier\n",
    "print \"\\n\", classified\n"
   ]
  },
  {
   "cell_type": "markdown",
   "metadata": {},
   "source": [
    "Because the males and females don't alway have a bimodal distribution, our classifier will not work nearly as well for their data sets."
   ]
  },
  {
   "cell_type": "markdown",
   "metadata": {},
   "source": [
    "## Problem 3: More Classification\n",
    "\n",
    "In this problem, we will explore a different way to classify the disease subtype of new patients."
   ]
  },
  {
   "cell_type": "markdown",
   "metadata": {},
   "source": [
    "### Part (a): Another Classifier\n",
    "\n",
    "In Problem 2, we classified the disease subtype of a new patient by comparing their biometric data with the biometric means of the subtypes we compute from the training data. This time, we compare the biometric data of the new patient with the data of all the patients in the training data. We identify the patient in the training data whose biometric data is most similar (in terms of Euclidean distance) to that of the new patient. Finally, we classify the disease subtype of the new patient as that of the patient most similar to them.\n",
    "\n",
    "Explain why this way of classifying disease subtypes of new patients is reasonable. Support your explanation with your analysis from Problem 1."
   ]
  },
  {
   "cell_type": "markdown",
   "metadata": {},
   "source": [
    "**Solution:**"
   ]
  },
  {
   "cell_type": "code",
   "execution_count": null,
   "metadata": {
    "collapsed": true
   },
   "outputs": [],
   "source": []
  },
  {
   "cell_type": "markdown",
   "metadata": {},
   "source": [
    "### Part (b): Implementation\n",
    "\n",
    "- __Randomly__ split the child patient data into two sets: training (70%) and testing (30%).  \n",
    "\n",
    "- Implement the scheme for classifying disease subtypes described in Part (a). That is, write a function, `classify`, that takes as input the training data and data for new patients, which then:\n",
    "\n",
    "    1. for each new patient, identify the patient in the training set whose biometric data is the most similar to this patient \n",
    "    2. classifies the disease subtype of each new patient as the subtype of the patient most similar to them\n",
    "    \n",
    "\n",
    "- Use the `classify` function to classify the disease subtypes of your testing data. Then use the `evaluate` function, from Problem 2, to evaluate your classification.\n",
    "\n",
    "- Do the same for adult male and adult female data."
   ]
  },
  {
   "cell_type": "markdown",
   "metadata": {},
   "source": [
    "**Solution:**"
   ]
  },
  {
   "cell_type": "code",
   "execution_count": null,
   "metadata": {
    "collapsed": true
   },
   "outputs": [],
   "source": [
    "# compare the biometric data of the new patient with the data of all the patients in the training data\n",
    "def classify_by_patient(train, test):\n",
    "    \n",
    "    # Setup our classified return type, {'patient_id':619711,'predicted_subtype':1.0,'actual_subtype':1.0}\n",
    "    classified = pd.DataFrame(columns=['patient_id', 'predicted_subtype', 'actual_subtype'])\n",
    "    \n",
    "    # Get only the unique values for subtype, e.g. 0.0, 1.0, 2.0, 3.0\n",
    "    subtypes_set = set(train['subtype'])\n",
    "    \n",
    "    # Create a dataframe to store the calculated mean for each subtype\n",
    "    subtype_means = pd.DataFrame(index=['mean'])\n",
    "    \n",
    "    # Let's \"train\" our model\n",
    "    # Compute the biometric means for subtypes using the training data, i.e. the biometric mean for marker_1 and subtype = 0.0\n",
    "    for subtype in subtypes_set:\n",
    "        # For marker 1 for this subtype,\n",
    "        # Add the new column name in the dataframe for this subtype/marker combo\n",
    "        col_name = 's' + str(int(subtype)) + 'm1'\n",
    "        subtype_means[col_name] = range(len(subtype_means))\n",
    "        \n",
    "        # Add the mean data to the row for the given subtype/marker combo\n",
    "        subtype_means.loc['mean', col_name ] = train[train['subtype']==subtype]['marker_1'].mean()    \n",
    "        \n",
    "        # For marker 2 for this subtype,\n",
    "        # Add the new column name in the dataframe for this subtype/marker combo\n",
    "        col_name = 's' + str(int(subtype)) + 'm2'\n",
    "        subtype_means[col_name] = range(len(subtype_means))\n",
    "        \n",
    "        # Add the mean data to the row for the given subtype/marker combo\n",
    "        subtype_means.loc['mean', col_name ] = train[train['subtype']==subtype]['marker_2'].mean()\n",
    "\n",
    "    #print subtype_means \n",
    "\n",
    "    \n",
    "    # Let's \"classify\" our test data according to the model\n",
    "    # Classify the disease subtype of each new patient by comparing their biometric data to the means computed\n",
    "    \n",
    "    i = 0\n",
    "    # Loop through each test patient\n",
    "    for patient in test.iterrows():\n",
    "        \n",
    "        patient_id = int(patient[1]['patient_id'])\n",
    "        marker_1 = float(patient[1]['marker_1'])\n",
    "        marker_2 = float(patient[1]['marker_2'])\n",
    "        actual_subtype = float(patient[1]['subtype'])\n",
    "\n",
    "        \n",
    "        j = 0\n",
    "        nearest = 9.0\n",
    "        patient_nearest = {}\n",
    "        # Loop through the marker/subtypes combos to find the least distant from the mean\n",
    "        for column_name in subtype_means:\n",
    "    \n",
    "            #print \"column_name=\", column_name\n",
    "            #print \"subtype_means[column_name]=\", subtype_means[column_name]\n",
    "\n",
    "            subtype_mean = float(subtype_means[column_name])\n",
    "            \n",
    "            # Evaluate the euclidean mean for each subtype/marker combo to add to the patient dataframe\n",
    "            patient_nearest[j] = ((marker_1 - subtype_mean) ** 2 + (marker_2 - subtype_mean) ** 2) ** 0.5\n",
    "            j = j+1\n",
    "        \n",
    "            nearest = min(patient_nearest, key=patient_nearest.get)\n",
    "                  \n",
    "        # Load the current classified patient data\n",
    "        classified.loc[i] = [patient_id, actual_subtype, nearest]\n",
    "        i = i+1\n",
    "        \n",
    "    return classified\n",
    "\n"
   ]
  },
  {
   "cell_type": "code",
   "execution_count": null,
   "metadata": {
    "collapsed": true
   },
   "outputs": [],
   "source": [
    "# split the child patient data into two sets: training (70%) and testing (30%).\n",
    "# http://stackoverflow.com/questions/24147278/how-do-i-create-test-and-train-samples-from-one-dataframe-with-pandas\n",
    "mask = np.random.rand(len(child_data)) < 0.7\n",
    "\n",
    "train = child_data[mask]\n",
    "test = child_data[~mask]\n",
    "#train\n",
    "#test\n",
    "\n",
    "\n",
    "\n",
    "# Run the classifier\n",
    "classified = classify_by_patient(train, test)\n",
    "\n",
    "# Run the evaluation\n",
    "evaluate(classified)\n",
    "\n",
    "# Display the output of the classifier\n",
    "print \"\\n\", classified\n",
    "\n"
   ]
  },
  {
   "cell_type": "code",
   "execution_count": null,
   "metadata": {
    "collapsed": true
   },
   "outputs": [],
   "source": [
    "# Clasify and evaluate adult female patient data\n",
    "# Randomly split the patient data into two sets: training (70%) and testing (30%) \n",
    "cut = np.random.rand(len(female_data)) < 0.7\n",
    "\n",
    "# Training data is below the cut point\n",
    "train = female_data[cut]\n",
    "\n",
    "# Testing data is above the cut point\n",
    "test = female_data[~cut]\n",
    "\n",
    "# Run the classifier\n",
    "classified = classify_by_patient(train, test)\n",
    "\n",
    "# Run the evaluation\n",
    "evaluate(classified)\n",
    "\n",
    "# Display the output of the classifier\n",
    "print \"\\n\", classified\n",
    "\n"
   ]
  },
  {
   "cell_type": "code",
   "execution_count": null,
   "metadata": {
    "collapsed": true
   },
   "outputs": [],
   "source": [
    "# Clasify and evaluate adult male patient data\n",
    "# Randomly split the patient data into two sets: training (70%) and testing (30%) \n",
    "cut = np.random.rand(len(male_data)) < 0.7\n",
    "\n",
    "# Training data is below the cut point\n",
    "train = male_data[cut]\n",
    "\n",
    "# Testing data is above the cut point\n",
    "test = male_data[~cut]\n",
    "\n",
    "# Run the classifier\n",
    "classified = classify_by_patient(train, test)\n",
    "\n",
    "# Run the evaluation\n",
    "evaluate(classified)\n",
    "\n",
    "# Display the output of the classifier\n",
    "print \"\\n\", classified\n",
    "\n"
   ]
  },
  {
   "cell_type": "markdown",
   "metadata": {},
   "source": [
    "### Part (c): Comparison of Classifiers\n",
    "\n",
    "Compare the performance of the classifier you implemented in Part (b) with the one from Problem 2.\n",
    "\n",
    "Which classifier does a better job on the child patient data? Explain why, using your analysis of the dataset from Problem 1. \n",
    "\n",
    "Answer the above question for the adult male and adult female data."
   ]
  },
  {
   "cell_type": "markdown",
   "metadata": {},
   "source": [
    "**Solution:**"
   ]
  },
  {
   "cell_type": "markdown",
   "metadata": {},
   "source": [
    "---"
   ]
  },
  {
   "cell_type": "markdown",
   "metadata": {},
   "source": [
    "## Challenge Problem: US Voting Data (by Age and Sex)\n",
    "**(Required for AC 209A Students)**\n",
    "\n",
    "In this problem, you will perform preliminary data exploration and visualization of some real voting data. \n",
    "\n",
    "**Note:** You are now working with real-life data, so be cautious regarding data type, data format and data quality."
   ]
  },
  {
   "cell_type": "markdown",
   "metadata": {},
   "source": [
    "### Part (a): Downloading and Understanding the Data\n",
    "\n",
    "Download Table 1 from the [US Census Bereau](http://www.census.gov/data/tables/time-series/demo/voting-and-registration/p20-577.html). This is an excel file (do not perform any analysis using Microsoft Excel). \n",
    "\n",
    "Load the data into a Python data structure.\n",
    "\n",
    "Write a brief summary describing what information is included in this dataset (provide evidence to support your summary)."
   ]
  },
  {
   "cell_type": "markdown",
   "metadata": {},
   "source": [
    "**Solution:**"
   ]
  },
  {
   "cell_type": "markdown",
   "metadata": {},
   "source": [
    "### Part (b): What's the Story?\n",
    "\n",
    "Perform data exploration and identify as well as describe the major trends in this data set. Use your computations and visualizations effecitively and specifically to support your analysis, hypothesis and conclusions. Your analysis must include relationships between age, sex and reported percentage of voter registration, reported voting."
   ]
  },
  {
   "cell_type": "markdown",
   "metadata": {},
   "source": [
    "**Solution:**"
   ]
  },
  {
   "cell_type": "markdown",
   "metadata": {},
   "source": [
    "### Part (c): What's Next?\n",
    "\n",
    "Based on your analysis in part (c), what types of interesting questions or tasks could you ask of or perform with this data (explain your answer)? What additional data do you anticipate needing in order to answer these questions/perform these tasks (explain your answer)?"
   ]
  },
  {
   "cell_type": "markdown",
   "metadata": {},
   "source": [
    "**Solution:**"
   ]
  }
 ],
 "metadata": {
  "anaconda-cloud": {},
  "kernelspec": {
   "display_name": "Python [Root]",
   "language": "python",
   "name": "Python [Root]"
  },
  "language_info": {
   "codemirror_mode": {
    "name": "ipython",
    "version": 2
   },
   "file_extension": ".py",
   "mimetype": "text/x-python",
   "name": "python",
   "nbconvert_exporter": "python",
   "pygments_lexer": "ipython2",
   "version": "2.7.12"
  }
 },
 "nbformat": 4,
 "nbformat_minor": 0
}
